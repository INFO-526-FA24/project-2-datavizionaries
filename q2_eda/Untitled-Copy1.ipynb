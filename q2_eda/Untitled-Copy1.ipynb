{
 "cells": [
  {
   "cell_type": "markdown",
   "id": "b12cb66a",
   "metadata": {},
   "source": [
    "### Q-2\n",
    "* What is the distribution of mental health treatment-seeking across different demographics (e.g., gender, country, occupation)? \n",
    "\n",
    "* Also, are there trends seen over time (based on Timestamp), such as increasing stress levels or changes in treatment-seeking behaviors?\n"
   ]
  },
  {
   "cell_type": "markdown",
   "id": "cfd43912",
   "metadata": {},
   "source": [
    "#### Step 1: Data Preprocessing"
   ]
  },
  {
   "cell_type": "code",
   "execution_count": 1,
   "id": "365d3398",
   "metadata": {},
   "outputs": [],
   "source": [
    "# install.packages(\"tidyverse\")\n",
    "# install.packages(\"lubridate\")\n",
    "# install.packages(\"ggplot2\")\n",
    "# install.packages(\"dplyr\")\n",
    "# install.packages(\"caret\")\n",
    "# install.packages(\"forecast\")\n",
    "# install.packages(\"reshape2\")"
   ]
  },
  {
   "cell_type": "code",
   "execution_count": null,
   "id": "b7a43299",
   "metadata": {},
   "outputs": [],
   "source": []
  },
  {
   "cell_type": "code",
   "execution_count": 1,
   "id": "75d76547",
   "metadata": {
    "tags": []
   },
   "outputs": [
    {
     "name": "stderr",
     "output_type": "stream",
     "text": [
      "Warning message:\n",
      "\"package 'tidyverse' was built under R version 4.4.2\"\n",
      "Warning message:\n",
      "\"package 'ggplot2' was built under R version 4.4.2\"\n",
      "Warning message:\n",
      "\"package 'dplyr' was built under R version 4.4.2\"\n",
      "Warning message:\n",
      "\"package 'lubridate' was built under R version 4.4.2\"\n",
      "── \u001b[1mAttaching core tidyverse packages\u001b[22m ──────────────────────────────────────────────────────────────── tidyverse 2.0.0 ──\n",
      "\u001b[32m✔\u001b[39m \u001b[34mdplyr    \u001b[39m 1.1.4     \u001b[32m✔\u001b[39m \u001b[34mreadr    \u001b[39m 2.1.5\n",
      "\u001b[32m✔\u001b[39m \u001b[34mforcats  \u001b[39m 1.0.0     \u001b[32m✔\u001b[39m \u001b[34mstringr  \u001b[39m 1.5.1\n",
      "\u001b[32m✔\u001b[39m \u001b[34mggplot2  \u001b[39m 3.5.1     \u001b[32m✔\u001b[39m \u001b[34mtibble   \u001b[39m 3.2.1\n",
      "\u001b[32m✔\u001b[39m \u001b[34mlubridate\u001b[39m 1.9.3     \u001b[32m✔\u001b[39m \u001b[34mtidyr    \u001b[39m 1.3.1\n",
      "\u001b[32m✔\u001b[39m \u001b[34mpurrr    \u001b[39m 1.0.2     \n",
      "── \u001b[1mConflicts\u001b[22m ────────────────────────────────────────────────────────────────────────────────── tidyverse_conflicts() ──\n",
      "\u001b[31m✖\u001b[39m \u001b[34mdplyr\u001b[39m::\u001b[32mfilter()\u001b[39m masks \u001b[34mstats\u001b[39m::filter()\n",
      "\u001b[31m✖\u001b[39m \u001b[34mdplyr\u001b[39m::\u001b[32mlag()\u001b[39m    masks \u001b[34mstats\u001b[39m::lag()\n",
      "\u001b[36mℹ\u001b[39m Use the conflicted package (\u001b[3m\u001b[34m<http://conflicted.r-lib.org/>\u001b[39m\u001b[23m) to force all conflicts to become errors\n",
      "Warning message:\n",
      "\"package 'caret' was built under R version 4.4.2\"\n",
      "Loading required package: lattice\n",
      "\n",
      "\n",
      "Attaching package: 'caret'\n",
      "\n",
      "\n",
      "The following object is masked from 'package:purrr':\n",
      "\n",
      "    lift\n",
      "\n",
      "\n",
      "Warning message:\n",
      "\"package 'forecast' was built under R version 4.4.2\"\n",
      "Registered S3 method overwritten by 'quantmod':\n",
      "  method            from\n",
      "  as.zoo.data.frame zoo \n",
      "\n",
      "Warning message:\n",
      "\"package 'reshape2' was built under R version 4.4.2\"\n",
      "\n",
      "Attaching package: 'reshape2'\n",
      "\n",
      "\n",
      "The following object is masked from 'package:tidyr':\n",
      "\n",
      "    smiths\n",
      "\n",
      "\n"
     ]
    }
   ],
   "source": [
    "# Load required libraries\n",
    "library(tidyverse)\n",
    "library(lubridate)\n",
    "library(ggplot2)\n",
    "library(dplyr)\n",
    "library(caret) # For logistic regression\n",
    "library(forecast) # For time series models\n",
    "library(reshape2) # For heatmap"
   ]
  },
  {
   "cell_type": "markdown",
   "id": "b904054f-bcff-4030-aa2c-5d8bf04d5f67",
   "metadata": {},
   "source": [
    "### Importing a CSV File"
   ]
  },
  {
   "cell_type": "code",
   "execution_count": 2,
   "id": "c4a7238b-794b-4650-a28f-4c003a7fb2c3",
   "metadata": {
    "tags": []
   },
   "outputs": [
    {
     "name": "stderr",
     "output_type": "stream",
     "text": [
      "\u001b[1mRows: \u001b[22m\u001b[34m292364\u001b[39m \u001b[1mColumns: \u001b[22m\u001b[34m17\u001b[39m\n",
      "\u001b[36m──\u001b[39m \u001b[1mColumn specification\u001b[22m \u001b[36m────────────────────────────────────────────────────────────────────────────────────────────────\u001b[39m\n",
      "\u001b[1mDelimiter:\u001b[22m \",\"\n",
      "\u001b[31mchr\u001b[39m (17): Timestamp, Gender, Country, Occupation, self_employed, family_hist...\n",
      "\n",
      "\u001b[36mℹ\u001b[39m Use `spec()` to retrieve the full column specification for this data.\n",
      "\u001b[36mℹ\u001b[39m Specify the column types or set `show_col_types = FALSE` to quiet this message.\n"
     ]
    }
   ],
   "source": [
    "library(readr)\n",
    "\n",
    "# Replace \"file_path.csv\" with the path to your dataset\n",
    "data <- read_csv(\"..//data//mental_health.csv\")\n"
   ]
  },
  {
   "cell_type": "code",
   "execution_count": 3,
   "id": "632ca0fb-dbfb-42b1-afbc-12509e29d71b",
   "metadata": {
    "tags": []
   },
   "outputs": [
    {
     "data": {
      "text/html": [
       "<table class=\"dataframe\">\n",
       "<caption>A tibble: 6 × 17</caption>\n",
       "<thead>\n",
       "\t<tr><th scope=col>Timestamp</th><th scope=col>Gender</th><th scope=col>Country</th><th scope=col>Occupation</th><th scope=col>self_employed</th><th scope=col>family_history</th><th scope=col>treatment</th><th scope=col>Days_Indoors</th><th scope=col>Growing_Stress</th><th scope=col>Changes_Habits</th><th scope=col>Mental_Health_History</th><th scope=col>Mood_Swings</th><th scope=col>Coping_Struggles</th><th scope=col>Work_Interest</th><th scope=col>Social_Weakness</th><th scope=col>mental_health_interview</th><th scope=col>care_options</th></tr>\n",
       "\t<tr><th scope=col>&lt;chr&gt;</th><th scope=col>&lt;chr&gt;</th><th scope=col>&lt;chr&gt;</th><th scope=col>&lt;chr&gt;</th><th scope=col>&lt;chr&gt;</th><th scope=col>&lt;chr&gt;</th><th scope=col>&lt;chr&gt;</th><th scope=col>&lt;chr&gt;</th><th scope=col>&lt;chr&gt;</th><th scope=col>&lt;chr&gt;</th><th scope=col>&lt;chr&gt;</th><th scope=col>&lt;chr&gt;</th><th scope=col>&lt;chr&gt;</th><th scope=col>&lt;chr&gt;</th><th scope=col>&lt;chr&gt;</th><th scope=col>&lt;chr&gt;</th><th scope=col>&lt;chr&gt;</th></tr>\n",
       "</thead>\n",
       "<tbody>\n",
       "\t<tr><td>8/27/2014 11:29</td><td>Female</td><td>United States</td><td>Corporate</td><td>NA</td><td>No </td><td>Yes</td><td>1-14 days</td><td>Yes</td><td>No</td><td>Yes</td><td>Medium</td><td>No</td><td>No</td><td>Yes</td><td>No   </td><td>Not sure</td></tr>\n",
       "\t<tr><td>8/27/2014 11:31</td><td>Female</td><td>United States</td><td>Corporate</td><td>NA</td><td>Yes</td><td>Yes</td><td>1-14 days</td><td>Yes</td><td>No</td><td>Yes</td><td>Medium</td><td>No</td><td>No</td><td>Yes</td><td>No   </td><td>No      </td></tr>\n",
       "\t<tr><td>8/27/2014 11:32</td><td>Female</td><td>United States</td><td>Corporate</td><td>NA</td><td>Yes</td><td>Yes</td><td>1-14 days</td><td>Yes</td><td>No</td><td>Yes</td><td>Medium</td><td>No</td><td>No</td><td>Yes</td><td>No   </td><td>Yes     </td></tr>\n",
       "\t<tr><td>8/27/2014 11:37</td><td>Female</td><td>United States</td><td>Corporate</td><td>No</td><td>Yes</td><td>Yes</td><td>1-14 days</td><td>Yes</td><td>No</td><td>Yes</td><td>Medium</td><td>No</td><td>No</td><td>Yes</td><td>Maybe</td><td>Yes     </td></tr>\n",
       "\t<tr><td>8/27/2014 11:43</td><td>Female</td><td>United States</td><td>Corporate</td><td>No</td><td>Yes</td><td>Yes</td><td>1-14 days</td><td>Yes</td><td>No</td><td>Yes</td><td>Medium</td><td>No</td><td>No</td><td>Yes</td><td>No   </td><td>Yes     </td></tr>\n",
       "\t<tr><td>8/27/2014 11:49</td><td>Female</td><td>Poland       </td><td>Corporate</td><td>No</td><td>No </td><td>Yes</td><td>1-14 days</td><td>Yes</td><td>No</td><td>Yes</td><td>Medium</td><td>No</td><td>No</td><td>Yes</td><td>Maybe</td><td>Not sure</td></tr>\n",
       "</tbody>\n",
       "</table>\n"
      ],
      "text/latex": [
       "A tibble: 6 × 17\n",
       "\\begin{tabular}{lllllllllllllllll}\n",
       " Timestamp & Gender & Country & Occupation & self\\_employed & family\\_history & treatment & Days\\_Indoors & Growing\\_Stress & Changes\\_Habits & Mental\\_Health\\_History & Mood\\_Swings & Coping\\_Struggles & Work\\_Interest & Social\\_Weakness & mental\\_health\\_interview & care\\_options\\\\\n",
       " <chr> & <chr> & <chr> & <chr> & <chr> & <chr> & <chr> & <chr> & <chr> & <chr> & <chr> & <chr> & <chr> & <chr> & <chr> & <chr> & <chr>\\\\\n",
       "\\hline\n",
       "\t 8/27/2014 11:29 & Female & United States & Corporate & NA & No  & Yes & 1-14 days & Yes & No & Yes & Medium & No & No & Yes & No    & Not sure\\\\\n",
       "\t 8/27/2014 11:31 & Female & United States & Corporate & NA & Yes & Yes & 1-14 days & Yes & No & Yes & Medium & No & No & Yes & No    & No      \\\\\n",
       "\t 8/27/2014 11:32 & Female & United States & Corporate & NA & Yes & Yes & 1-14 days & Yes & No & Yes & Medium & No & No & Yes & No    & Yes     \\\\\n",
       "\t 8/27/2014 11:37 & Female & United States & Corporate & No & Yes & Yes & 1-14 days & Yes & No & Yes & Medium & No & No & Yes & Maybe & Yes     \\\\\n",
       "\t 8/27/2014 11:43 & Female & United States & Corporate & No & Yes & Yes & 1-14 days & Yes & No & Yes & Medium & No & No & Yes & No    & Yes     \\\\\n",
       "\t 8/27/2014 11:49 & Female & Poland        & Corporate & No & No  & Yes & 1-14 days & Yes & No & Yes & Medium & No & No & Yes & Maybe & Not sure\\\\\n",
       "\\end{tabular}\n"
      ],
      "text/markdown": [
       "\n",
       "A tibble: 6 × 17\n",
       "\n",
       "| Timestamp &lt;chr&gt; | Gender &lt;chr&gt; | Country &lt;chr&gt; | Occupation &lt;chr&gt; | self_employed &lt;chr&gt; | family_history &lt;chr&gt; | treatment &lt;chr&gt; | Days_Indoors &lt;chr&gt; | Growing_Stress &lt;chr&gt; | Changes_Habits &lt;chr&gt; | Mental_Health_History &lt;chr&gt; | Mood_Swings &lt;chr&gt; | Coping_Struggles &lt;chr&gt; | Work_Interest &lt;chr&gt; | Social_Weakness &lt;chr&gt; | mental_health_interview &lt;chr&gt; | care_options &lt;chr&gt; |\n",
       "|---|---|---|---|---|---|---|---|---|---|---|---|---|---|---|---|---|\n",
       "| 8/27/2014 11:29 | Female | United States | Corporate | NA | No  | Yes | 1-14 days | Yes | No | Yes | Medium | No | No | Yes | No    | Not sure |\n",
       "| 8/27/2014 11:31 | Female | United States | Corporate | NA | Yes | Yes | 1-14 days | Yes | No | Yes | Medium | No | No | Yes | No    | No       |\n",
       "| 8/27/2014 11:32 | Female | United States | Corporate | NA | Yes | Yes | 1-14 days | Yes | No | Yes | Medium | No | No | Yes | No    | Yes      |\n",
       "| 8/27/2014 11:37 | Female | United States | Corporate | No | Yes | Yes | 1-14 days | Yes | No | Yes | Medium | No | No | Yes | Maybe | Yes      |\n",
       "| 8/27/2014 11:43 | Female | United States | Corporate | No | Yes | Yes | 1-14 days | Yes | No | Yes | Medium | No | No | Yes | No    | Yes      |\n",
       "| 8/27/2014 11:49 | Female | Poland        | Corporate | No | No  | Yes | 1-14 days | Yes | No | Yes | Medium | No | No | Yes | Maybe | Not sure |\n",
       "\n"
      ],
      "text/plain": [
       "  Timestamp       Gender Country       Occupation self_employed family_history\n",
       "1 8/27/2014 11:29 Female United States Corporate  NA            No            \n",
       "2 8/27/2014 11:31 Female United States Corporate  NA            Yes           \n",
       "3 8/27/2014 11:32 Female United States Corporate  NA            Yes           \n",
       "4 8/27/2014 11:37 Female United States Corporate  No            Yes           \n",
       "5 8/27/2014 11:43 Female United States Corporate  No            Yes           \n",
       "6 8/27/2014 11:49 Female Poland        Corporate  No            No            \n",
       "  treatment Days_Indoors Growing_Stress Changes_Habits Mental_Health_History\n",
       "1 Yes       1-14 days    Yes            No             Yes                  \n",
       "2 Yes       1-14 days    Yes            No             Yes                  \n",
       "3 Yes       1-14 days    Yes            No             Yes                  \n",
       "4 Yes       1-14 days    Yes            No             Yes                  \n",
       "5 Yes       1-14 days    Yes            No             Yes                  \n",
       "6 Yes       1-14 days    Yes            No             Yes                  \n",
       "  Mood_Swings Coping_Struggles Work_Interest Social_Weakness\n",
       "1 Medium      No               No            Yes            \n",
       "2 Medium      No               No            Yes            \n",
       "3 Medium      No               No            Yes            \n",
       "4 Medium      No               No            Yes            \n",
       "5 Medium      No               No            Yes            \n",
       "6 Medium      No               No            Yes            \n",
       "  mental_health_interview care_options\n",
       "1 No                      Not sure    \n",
       "2 No                      No          \n",
       "3 No                      Yes         \n",
       "4 Maybe                   Yes         \n",
       "5 No                      Yes         \n",
       "6 Maybe                   Not sure    "
      ]
     },
     "metadata": {},
     "output_type": "display_data"
    }
   ],
   "source": [
    "head(data)"
   ]
  },
  {
   "cell_type": "markdown",
   "id": "c547940d-f79c-4231-b606-cae94d1ba331",
   "metadata": {},
   "source": [
    "#### Visulaizing missing data"
   ]
  },
  {
   "cell_type": "code",
   "execution_count": 4,
   "id": "e5047d7a-3fec-41fa-80a1-d53e19834ff3",
   "metadata": {
    "tags": []
   },
   "outputs": [
    {
     "name": "stderr",
     "output_type": "stream",
     "text": [
      "Installing package into 'C:/Users/xperi/AppData/Local/R/win-library/4.4'\n",
      "(as 'lib' is unspecified)\n",
      "\n"
     ]
    },
    {
     "name": "stdout",
     "output_type": "stream",
     "text": [
      "package 'naniar' successfully unpacked and MD5 sums checked\n",
      "\n",
      "The downloaded binary packages are in\n",
      "\tC:\\Users\\xperi\\AppData\\Local\\Temp\\Rtmp6XrnKA\\downloaded_packages\n"
     ]
    }
   ],
   "source": [
    "# install.packages(\"naniar\")"
   ]
  },
  {
   "cell_type": "code",
   "execution_count": 5,
   "id": "15df121e-b837-44eb-a128-730364c45d68",
   "metadata": {
    "tags": []
   },
   "outputs": [
    {
     "name": "stderr",
     "output_type": "stream",
     "text": [
      "Warning message:\n",
      "\"package 'naniar' was built under R version 4.4.2\"\n"
     ]
    },
    {
     "ename": "ERROR",
     "evalue": "\u001b[1m\u001b[33mError\u001b[39m in `test_if_large_data()`:\u001b[22m\n\u001b[1m\u001b[22m\u001b[33m!\u001b[39m Data exceeds recommended size for visualisation\nConsider downsampling your data with `dplyr::slice_sample()`\nOr set argument, `warn_large_data` = `FALSE`\n",
     "output_type": "error",
     "traceback": [
      "\u001b[1m\u001b[33mError\u001b[39m in `test_if_large_data()`:\u001b[22m\n\u001b[1m\u001b[22m\u001b[33m!\u001b[39m Data exceeds recommended size for visualisation\nConsider downsampling your data with `dplyr::slice_sample()`\nOr set argument, `warn_large_data` = `FALSE`\nTraceback:\n",
      "1. vis_miss(data)",
      "2. test_if_large_data(x, large_data_size, warn_large_data)",
      "3. cli::cli_abort(c(\"Data exceeds recommended size for visualisation\", \n .     \"Consider downsampling your data with {.fn dplyr::slice_sample}\", \n .     \"Or set argument, {.arg warn_large_data} = {.arg FALSE}\"))",
      "4. rlang::abort(message, ..., call = call, use_cli_format = TRUE, \n .     .frame = .frame)",
      "5. signal_abort(cnd, .file)"
     ]
    },
    {
     "data": {
      "image/png": "[encoded data removed]",
      "text/plain": [
       "plot without title"
      ]
     },
     "metadata": {
      "image/png": {
       "height": 420,
       "width": 420
      }
     },
     "output_type": "display_data"
    }
   ],
   "source": [
    "library(naniar)\n",
    "\n",
    "# Visualize missingness\n",
    "gg_miss_var(data)\n",
    "\n",
    "# Heatmap of missing data\n",
    "vis_miss(data)\n"
   ]
  },
  {
   "cell_type": "markdown",
   "id": "07f39aa7",
   "metadata": {},
   "source": [
    "#### Convert Timestamp into a Date Format"
   ]
  },
  {
   "cell_type": "code",
   "execution_count": 6,
   "id": "c0511412",
   "metadata": {
    "tags": []
   },
   "outputs": [],
   "source": [
    "library(lubridate)\n",
    "\n",
    "# Convert Timestamp to date-time format\n",
    "data <- data %>%\n",
    "  mutate(Timestamp = mdy_hm(Timestamp),                 # Parse Timestamp\n",
    "         Occupation = ifelse(Occupation == \"Housewife\", \"Homemaker\", Occupation), # Rename Housewife\n",
    "         diagnosed = ifelse(treatment == \"Yes\", 1, 0))  # Create diagnosed column\n"
   ]
  },
  {
   "cell_type": "code",
   "execution_count": 7,
   "id": "cd66d1a7-6dba-4f46-8752-439619aa297e",
   "metadata": {
    "tags": []
   },
   "outputs": [
    {
     "data": {
      "text/html": [
       "<table class=\"dataframe\">\n",
       "<caption>A tibble: 6 × 18</caption>\n",
       "<thead>\n",
       "\t<tr><th scope=col>Timestamp</th><th scope=col>Gender</th><th scope=col>Country</th><th scope=col>Occupation</th><th scope=col>self_employed</th><th scope=col>family_history</th><th scope=col>treatment</th><th scope=col>Days_Indoors</th><th scope=col>Growing_Stress</th><th scope=col>Changes_Habits</th><th scope=col>Mental_Health_History</th><th scope=col>Mood_Swings</th><th scope=col>Coping_Struggles</th><th scope=col>Work_Interest</th><th scope=col>Social_Weakness</th><th scope=col>mental_health_interview</th><th scope=col>care_options</th><th scope=col>diagnosed</th></tr>\n",
       "\t<tr><th scope=col>&lt;dttm&gt;</th><th scope=col>&lt;chr&gt;</th><th scope=col>&lt;chr&gt;</th><th scope=col>&lt;chr&gt;</th><th scope=col>&lt;chr&gt;</th><th scope=col>&lt;chr&gt;</th><th scope=col>&lt;chr&gt;</th><th scope=col>&lt;chr&gt;</th><th scope=col>&lt;chr&gt;</th><th scope=col>&lt;chr&gt;</th><th scope=col>&lt;chr&gt;</th><th scope=col>&lt;chr&gt;</th><th scope=col>&lt;chr&gt;</th><th scope=col>&lt;chr&gt;</th><th scope=col>&lt;chr&gt;</th><th scope=col>&lt;chr&gt;</th><th scope=col>&lt;chr&gt;</th><th scope=col>&lt;dbl&gt;</th></tr>\n",
       "</thead>\n",
       "<tbody>\n",
       "\t<tr><td>2014-08-27 11:29:00</td><td>Female</td><td>United States</td><td>Corporate</td><td>NA</td><td>No </td><td>Yes</td><td>1-14 days</td><td>Yes</td><td>No</td><td>Yes</td><td>Medium</td><td>No</td><td>No</td><td>Yes</td><td>No   </td><td>Not sure</td><td>1</td></tr>\n",
       "\t<tr><td>2014-08-27 11:31:00</td><td>Female</td><td>United States</td><td>Corporate</td><td>NA</td><td>Yes</td><td>Yes</td><td>1-14 days</td><td>Yes</td><td>No</td><td>Yes</td><td>Medium</td><td>No</td><td>No</td><td>Yes</td><td>No   </td><td>No      </td><td>1</td></tr>\n",
       "\t<tr><td>2014-08-27 11:32:00</td><td>Female</td><td>United States</td><td>Corporate</td><td>NA</td><td>Yes</td><td>Yes</td><td>1-14 days</td><td>Yes</td><td>No</td><td>Yes</td><td>Medium</td><td>No</td><td>No</td><td>Yes</td><td>No   </td><td>Yes     </td><td>1</td></tr>\n",
       "\t<tr><td>2014-08-27 11:37:00</td><td>Female</td><td>United States</td><td>Corporate</td><td>No</td><td>Yes</td><td>Yes</td><td>1-14 days</td><td>Yes</td><td>No</td><td>Yes</td><td>Medium</td><td>No</td><td>No</td><td>Yes</td><td>Maybe</td><td>Yes     </td><td>1</td></tr>\n",
       "\t<tr><td>2014-08-27 11:43:00</td><td>Female</td><td>United States</td><td>Corporate</td><td>No</td><td>Yes</td><td>Yes</td><td>1-14 days</td><td>Yes</td><td>No</td><td>Yes</td><td>Medium</td><td>No</td><td>No</td><td>Yes</td><td>No   </td><td>Yes     </td><td>1</td></tr>\n",
       "\t<tr><td>2014-08-27 11:49:00</td><td>Female</td><td>Poland       </td><td>Corporate</td><td>No</td><td>No </td><td>Yes</td><td>1-14 days</td><td>Yes</td><td>No</td><td>Yes</td><td>Medium</td><td>No</td><td>No</td><td>Yes</td><td>Maybe</td><td>Not sure</td><td>1</td></tr>\n",
       "</tbody>\n",
       "</table>\n"
      ],
      "text/latex": [
       "A tibble: 6 × 18\n",
       "\\begin{tabular}{llllllllllllllllll}\n",
       " Timestamp & Gender & Country & Occupation & self\\_employed & family\\_history & treatment & Days\\_Indoors & Growing\\_Stress & Changes\\_Habits & Mental\\_Health\\_History & Mood\\_Swings & Coping\\_Struggles & Work\\_Interest & Social\\_Weakness & mental\\_health\\_interview & care\\_options & diagnosed\\\\\n",
       " <dttm> & <chr> & <chr> & <chr> & <chr> & <chr> & <chr> & <chr> & <chr> & <chr> & <chr> & <chr> & <chr> & <chr> & <chr> & <chr> & <chr> & <dbl>\\\\\n",
       "\\hline\n",
       "\t 2014-08-27 11:29:00 & Female & United States & Corporate & NA & No  & Yes & 1-14 days & Yes & No & Yes & Medium & No & No & Yes & No    & Not sure & 1\\\\\n",
       "\t 2014-08-27 11:31:00 & Female & United States & Corporate & NA & Yes & Yes & 1-14 days & Yes & No & Yes & Medium & No & No & Yes & No    & No       & 1\\\\\n",
       "\t 2014-08-27 11:32:00 & Female & United States & Corporate & NA & Yes & Yes & 1-14 days & Yes & No & Yes & Medium & No & No & Yes & No    & Yes      & 1\\\\\n",
       "\t 2014-08-27 11:37:00 & Female & United States & Corporate & No & Yes & Yes & 1-14 days & Yes & No & Yes & Medium & No & No & Yes & Maybe & Yes      & 1\\\\\n",
       "\t 2014-08-27 11:43:00 & Female & United States & Corporate & No & Yes & Yes & 1-14 days & Yes & No & Yes & Medium & No & No & Yes & No    & Yes      & 1\\\\\n",
       "\t 2014-08-27 11:49:00 & Female & Poland        & Corporate & No & No  & Yes & 1-14 days & Yes & No & Yes & Medium & No & No & Yes & Maybe & Not sure & 1\\\\\n",
       "\\end{tabular}\n"
      ],
      "text/markdown": [
       "\n",
       "A tibble: 6 × 18\n",
       "\n",
       "| Timestamp &lt;dttm&gt; | Gender &lt;chr&gt; | Country &lt;chr&gt; | Occupation &lt;chr&gt; | self_employed &lt;chr&gt; | family_history &lt;chr&gt; | treatment &lt;chr&gt; | Days_Indoors &lt;chr&gt; | Growing_Stress &lt;chr&gt; | Changes_Habits &lt;chr&gt; | Mental_Health_History &lt;chr&gt; | Mood_Swings &lt;chr&gt; | Coping_Struggles &lt;chr&gt; | Work_Interest &lt;chr&gt; | Social_Weakness &lt;chr&gt; | mental_health_interview &lt;chr&gt; | care_options &lt;chr&gt; | diagnosed &lt;dbl&gt; |\n",
       "|---|---|---|---|---|---|---|---|---|---|---|---|---|---|---|---|---|---|\n",
       "| 2014-08-27 11:29:00 | Female | United States | Corporate | NA | No  | Yes | 1-14 days | Yes | No | Yes | Medium | No | No | Yes | No    | Not sure | 1 |\n",
       "| 2014-08-27 11:31:00 | Female | United States | Corporate | NA | Yes | Yes | 1-14 days | Yes | No | Yes | Medium | No | No | Yes | No    | No       | 1 |\n",
       "| 2014-08-27 11:32:00 | Female | United States | Corporate | NA | Yes | Yes | 1-14 days | Yes | No | Yes | Medium | No | No | Yes | No    | Yes      | 1 |\n",
       "| 2014-08-27 11:37:00 | Female | United States | Corporate | No | Yes | Yes | 1-14 days | Yes | No | Yes | Medium | No | No | Yes | Maybe | Yes      | 1 |\n",
       "| 2014-08-27 11:43:00 | Female | United States | Corporate | No | Yes | Yes | 1-14 days | Yes | No | Yes | Medium | No | No | Yes | No    | Yes      | 1 |\n",
       "| 2014-08-27 11:49:00 | Female | Poland        | Corporate | No | No  | Yes | 1-14 days | Yes | No | Yes | Medium | No | No | Yes | Maybe | Not sure | 1 |\n",
       "\n"
      ],
      "text/plain": [
       "  Timestamp           Gender Country       Occupation self_employed\n",
       "1 2014-08-27 11:29:00 Female United States Corporate  NA           \n",
       "2 2014-08-27 11:31:00 Female United States Corporate  NA           \n",
       "3 2014-08-27 11:32:00 Female United States Corporate  NA           \n",
       "4 2014-08-27 11:37:00 Female United States Corporate  No           \n",
       "5 2014-08-27 11:43:00 Female United States Corporate  No           \n",
       "6 2014-08-27 11:49:00 Female Poland        Corporate  No           \n",
       "  family_history treatment Days_Indoors Growing_Stress Changes_Habits\n",
       "1 No             Yes       1-14 days    Yes            No            \n",
       "2 Yes            Yes       1-14 days    Yes            No            \n",
       "3 Yes            Yes       1-14 days    Yes            No            \n",
       "4 Yes            Yes       1-14 days    Yes            No            \n",
       "5 Yes            Yes       1-14 days    Yes            No            \n",
       "6 No             Yes       1-14 days    Yes            No            \n",
       "  Mental_Health_History Mood_Swings Coping_Struggles Work_Interest\n",
       "1 Yes                   Medium      No               No           \n",
       "2 Yes                   Medium      No               No           \n",
       "3 Yes                   Medium      No               No           \n",
       "4 Yes                   Medium      No               No           \n",
       "5 Yes                   Medium      No               No           \n",
       "6 Yes                   Medium      No               No           \n",
       "  Social_Weakness mental_health_interview care_options diagnosed\n",
       "1 Yes             No                      Not sure     1        \n",
       "2 Yes             No                      No           1        \n",
       "3 Yes             No                      Yes          1        \n",
       "4 Yes             Maybe                   Yes          1        \n",
       "5 Yes             No                      Yes          1        \n",
       "6 Yes             Maybe                   Not sure     1        "
      ]
     },
     "metadata": {},
     "output_type": "display_data"
    }
   ],
   "source": [
    "head(data)"
   ]
  },
  {
   "cell_type": "markdown",
   "id": "144e3177-9040-45dd-bafa-1060be66edd1",
   "metadata": {},
   "source": [
    "### Convert Categorical Variables into Factors"
   ]
  },
  {
   "cell_type": "code",
   "execution_count": 8,
   "id": "3a81e47a-bc99-49ee-8842-610c575239bf",
   "metadata": {
    "tags": []
   },
   "outputs": [],
   "source": [
    "factor_columns <- c(\"Gender\", \"Country\", \"Occupation\", \"self_employed\", \n",
    "                    \"family_history\", \"treatment\", \"Growing_Stress\", \n",
    "                    \"Changes_Habits\", \"Mood_Swings\", \"Coping_Struggles\", \n",
    "                    \"Work_Interest\", \"Social_Weakness\", \n",
    "                    \"mental_health_interview\", \"care_options\")\n",
    "\n",
    "data[factor_columns] <- lapply(data[factor_columns], as.factor)\n"
   ]
  },
  {
   "cell_type": "code",
   "execution_count": 9,
   "id": "cdba5f69-17c9-4f20-aa19-2410dee736d3",
   "metadata": {
    "tags": []
   },
   "outputs": [
    {
     "data": {
      "text/html": [
       "<table class=\"dataframe\">\n",
       "<caption>A tibble: 6 × 18</caption>\n",
       "<thead>\n",
       "\t<tr><th scope=col>Timestamp</th><th scope=col>Gender</th><th scope=col>Country</th><th scope=col>Occupation</th><th scope=col>self_employed</th><th scope=col>family_history</th><th scope=col>treatment</th><th scope=col>Days_Indoors</th><th scope=col>Growing_Stress</th><th scope=col>Changes_Habits</th><th scope=col>Mental_Health_History</th><th scope=col>Mood_Swings</th><th scope=col>Coping_Struggles</th><th scope=col>Work_Interest</th><th scope=col>Social_Weakness</th><th scope=col>mental_health_interview</th><th scope=col>care_options</th><th scope=col>diagnosed</th></tr>\n",
       "\t<tr><th scope=col>&lt;dttm&gt;</th><th scope=col>&lt;fct&gt;</th><th scope=col>&lt;fct&gt;</th><th scope=col>&lt;fct&gt;</th><th scope=col>&lt;fct&gt;</th><th scope=col>&lt;fct&gt;</th><th scope=col>&lt;fct&gt;</th><th scope=col>&lt;chr&gt;</th><th scope=col>&lt;fct&gt;</th><th scope=col>&lt;fct&gt;</th><th scope=col>&lt;chr&gt;</th><th scope=col>&lt;fct&gt;</th><th scope=col>&lt;fct&gt;</th><th scope=col>&lt;fct&gt;</th><th scope=col>&lt;fct&gt;</th><th scope=col>&lt;fct&gt;</th><th scope=col>&lt;fct&gt;</th><th scope=col>&lt;dbl&gt;</th></tr>\n",
       "</thead>\n",
       "<tbody>\n",
       "\t<tr><td>2014-08-27 11:29:00</td><td>Female</td><td>United States</td><td>Corporate</td><td>NA</td><td>No </td><td>Yes</td><td>1-14 days</td><td>Yes</td><td>No</td><td>Yes</td><td>Medium</td><td>No</td><td>No</td><td>Yes</td><td>No   </td><td>Not sure</td><td>1</td></tr>\n",
       "\t<tr><td>2014-08-27 11:31:00</td><td>Female</td><td>United States</td><td>Corporate</td><td>NA</td><td>Yes</td><td>Yes</td><td>1-14 days</td><td>Yes</td><td>No</td><td>Yes</td><td>Medium</td><td>No</td><td>No</td><td>Yes</td><td>No   </td><td>No      </td><td>1</td></tr>\n",
       "\t<tr><td>2014-08-27 11:32:00</td><td>Female</td><td>United States</td><td>Corporate</td><td>NA</td><td>Yes</td><td>Yes</td><td>1-14 days</td><td>Yes</td><td>No</td><td>Yes</td><td>Medium</td><td>No</td><td>No</td><td>Yes</td><td>No   </td><td>Yes     </td><td>1</td></tr>\n",
       "\t<tr><td>2014-08-27 11:37:00</td><td>Female</td><td>United States</td><td>Corporate</td><td>No</td><td>Yes</td><td>Yes</td><td>1-14 days</td><td>Yes</td><td>No</td><td>Yes</td><td>Medium</td><td>No</td><td>No</td><td>Yes</td><td>Maybe</td><td>Yes     </td><td>1</td></tr>\n",
       "\t<tr><td>2014-08-27 11:43:00</td><td>Female</td><td>United States</td><td>Corporate</td><td>No</td><td>Yes</td><td>Yes</td><td>1-14 days</td><td>Yes</td><td>No</td><td>Yes</td><td>Medium</td><td>No</td><td>No</td><td>Yes</td><td>No   </td><td>Yes     </td><td>1</td></tr>\n",
       "\t<tr><td>2014-08-27 11:49:00</td><td>Female</td><td>Poland       </td><td>Corporate</td><td>No</td><td>No </td><td>Yes</td><td>1-14 days</td><td>Yes</td><td>No</td><td>Yes</td><td>Medium</td><td>No</td><td>No</td><td>Yes</td><td>Maybe</td><td>Not sure</td><td>1</td></tr>\n",
       "</tbody>\n",
       "</table>\n"
      ],
      "text/latex": [
       "A tibble: 6 × 18\n",
       "\\begin{tabular}{llllllllllllllllll}\n",
       " Timestamp & Gender & Country & Occupation & self\\_employed & family\\_history & treatment & Days\\_Indoors & Growing\\_Stress & Changes\\_Habits & Mental\\_Health\\_History & Mood\\_Swings & Coping\\_Struggles & Work\\_Interest & Social\\_Weakness & mental\\_health\\_interview & care\\_options & diagnosed\\\\\n",
       " <dttm> & <fct> & <fct> & <fct> & <fct> & <fct> & <fct> & <chr> & <fct> & <fct> & <chr> & <fct> & <fct> & <fct> & <fct> & <fct> & <fct> & <dbl>\\\\\n",
       "\\hline\n",
       "\t 2014-08-27 11:29:00 & Female & United States & Corporate & NA & No  & Yes & 1-14 days & Yes & No & Yes & Medium & No & No & Yes & No    & Not sure & 1\\\\\n",
       "\t 2014-08-27 11:31:00 & Female & United States & Corporate & NA & Yes & Yes & 1-14 days & Yes & No & Yes & Medium & No & No & Yes & No    & No       & 1\\\\\n",
       "\t 2014-08-27 11:32:00 & Female & United States & Corporate & NA & Yes & Yes & 1-14 days & Yes & No & Yes & Medium & No & No & Yes & No    & Yes      & 1\\\\\n",
       "\t 2014-08-27 11:37:00 & Female & United States & Corporate & No & Yes & Yes & 1-14 days & Yes & No & Yes & Medium & No & No & Yes & Maybe & Yes      & 1\\\\\n",
       "\t 2014-08-27 11:43:00 & Female & United States & Corporate & No & Yes & Yes & 1-14 days & Yes & No & Yes & Medium & No & No & Yes & No    & Yes      & 1\\\\\n",
       "\t 2014-08-27 11:49:00 & Female & Poland        & Corporate & No & No  & Yes & 1-14 days & Yes & No & Yes & Medium & No & No & Yes & Maybe & Not sure & 1\\\\\n",
       "\\end{tabular}\n"
      ],
      "text/markdown": [
       "\n",
       "A tibble: 6 × 18\n",
       "\n",
       "| Timestamp &lt;dttm&gt; | Gender &lt;fct&gt; | Country &lt;fct&gt; | Occupation &lt;fct&gt; | self_employed &lt;fct&gt; | family_history &lt;fct&gt; | treatment &lt;fct&gt; | Days_Indoors &lt;chr&gt; | Growing_Stress &lt;fct&gt; | Changes_Habits &lt;fct&gt; | Mental_Health_History &lt;chr&gt; | Mood_Swings &lt;fct&gt; | Coping_Struggles &lt;fct&gt; | Work_Interest &lt;fct&gt; | Social_Weakness &lt;fct&gt; | mental_health_interview &lt;fct&gt; | care_options &lt;fct&gt; | diagnosed &lt;dbl&gt; |\n",
       "|---|---|---|---|---|---|---|---|---|---|---|---|---|---|---|---|---|---|\n",
       "| 2014-08-27 11:29:00 | Female | United States | Corporate | NA | No  | Yes | 1-14 days | Yes | No | Yes | Medium | No | No | Yes | No    | Not sure | 1 |\n",
       "| 2014-08-27 11:31:00 | Female | United States | Corporate | NA | Yes | Yes | 1-14 days | Yes | No | Yes | Medium | No | No | Yes | No    | No       | 1 |\n",
       "| 2014-08-27 11:32:00 | Female | United States | Corporate | NA | Yes | Yes | 1-14 days | Yes | No | Yes | Medium | No | No | Yes | No    | Yes      | 1 |\n",
       "| 2014-08-27 11:37:00 | Female | United States | Corporate | No | Yes | Yes | 1-14 days | Yes | No | Yes | Medium | No | No | Yes | Maybe | Yes      | 1 |\n",
       "| 2014-08-27 11:43:00 | Female | United States | Corporate | No | Yes | Yes | 1-14 days | Yes | No | Yes | Medium | No | No | Yes | No    | Yes      | 1 |\n",
       "| 2014-08-27 11:49:00 | Female | Poland        | Corporate | No | No  | Yes | 1-14 days | Yes | No | Yes | Medium | No | No | Yes | Maybe | Not sure | 1 |\n",
       "\n"
      ],
      "text/plain": [
       "  Timestamp           Gender Country       Occupation self_employed\n",
       "1 2014-08-27 11:29:00 Female United States Corporate  NA           \n",
       "2 2014-08-27 11:31:00 Female United States Corporate  NA           \n",
       "3 2014-08-27 11:32:00 Female United States Corporate  NA           \n",
       "4 2014-08-27 11:37:00 Female United States Corporate  No           \n",
       "5 2014-08-27 11:43:00 Female United States Corporate  No           \n",
       "6 2014-08-27 11:49:00 Female Poland        Corporate  No           \n",
       "  family_history treatment Days_Indoors Growing_Stress Changes_Habits\n",
       "1 No             Yes       1-14 days    Yes            No            \n",
       "2 Yes            Yes       1-14 days    Yes            No            \n",
       "3 Yes            Yes       1-14 days    Yes            No            \n",
       "4 Yes            Yes       1-14 days    Yes            No            \n",
       "5 Yes            Yes       1-14 days    Yes            No            \n",
       "6 No             Yes       1-14 days    Yes            No            \n",
       "  Mental_Health_History Mood_Swings Coping_Struggles Work_Interest\n",
       "1 Yes                   Medium      No               No           \n",
       "2 Yes                   Medium      No               No           \n",
       "3 Yes                   Medium      No               No           \n",
       "4 Yes                   Medium      No               No           \n",
       "5 Yes                   Medium      No               No           \n",
       "6 Yes                   Medium      No               No           \n",
       "  Social_Weakness mental_health_interview care_options diagnosed\n",
       "1 Yes             No                      Not sure     1        \n",
       "2 Yes             No                      No           1        \n",
       "3 Yes             No                      Yes          1        \n",
       "4 Yes             Maybe                   Yes          1        \n",
       "5 Yes             No                      Yes          1        \n",
       "6 Yes             Maybe                   Not sure     1        "
      ]
     },
     "metadata": {},
     "output_type": "display_data"
    }
   ],
   "source": [
    "head(data)"
   ]
  },
  {
   "cell_type": "markdown",
   "id": "7a8487fa-a128-4262-87f6-e054e6ce9c50",
   "metadata": {},
   "source": [
    "### Step 2: Exploratory Data Analysis (EDA)"
   ]
  },
  {
   "cell_type": "code",
   "execution_count": 40,
   "id": "9b9f24ec-b486-4897-aa4f-722468233012",
   "metadata": {
    "tags": []
   },
   "outputs": [
    {
     "data": {
      "text/html": [
       "<table class=\"dataframe\">\n",
       "<caption>A tibble: 6 × 18</caption>\n",
       "<thead>\n",
       "\t<tr><th scope=col>Timestamp</th><th scope=col>Gender</th><th scope=col>Country</th><th scope=col>Occupation</th><th scope=col>self_employed</th><th scope=col>family_history</th><th scope=col>treatment</th><th scope=col>Days_Indoors</th><th scope=col>Growing_Stress</th><th scope=col>Changes_Habits</th><th scope=col>Mental_Health_History</th><th scope=col>Mood_Swings</th><th scope=col>Coping_Struggles</th><th scope=col>Work_Interest</th><th scope=col>Social_Weakness</th><th scope=col>mental_health_interview</th><th scope=col>care_options</th><th scope=col>diagnosed</th></tr>\n",
       "\t<tr><th scope=col>&lt;dttm&gt;</th><th scope=col>&lt;fct&gt;</th><th scope=col>&lt;fct&gt;</th><th scope=col>&lt;fct&gt;</th><th scope=col>&lt;fct&gt;</th><th scope=col>&lt;fct&gt;</th><th scope=col>&lt;fct&gt;</th><th scope=col>&lt;chr&gt;</th><th scope=col>&lt;fct&gt;</th><th scope=col>&lt;fct&gt;</th><th scope=col>&lt;chr&gt;</th><th scope=col>&lt;fct&gt;</th><th scope=col>&lt;fct&gt;</th><th scope=col>&lt;fct&gt;</th><th scope=col>&lt;fct&gt;</th><th scope=col>&lt;fct&gt;</th><th scope=col>&lt;fct&gt;</th><th scope=col>&lt;dbl&gt;</th></tr>\n",
       "</thead>\n",
       "<tbody>\n",
       "\t<tr><td>2014-08-28 12:15:00</td><td>Male  </td><td>United Kingdom</td><td>Others   </td><td>No</td><td>No</td><td>Yes</td><td>15-30 days        </td><td>Yes  </td><td>Yes  </td><td>Yes  </td><td>Low </td><td>Yes</td><td>Yes  </td><td>Yes  </td><td>Yes  </td><td>No      </td><td>1</td></tr>\n",
       "\t<tr><td>2014-08-28 11:34:00</td><td>Male  </td><td>United States </td><td>Business </td><td>No</td><td>No</td><td>Yes</td><td>15-30 days        </td><td>No   </td><td>Maybe</td><td>No   </td><td>Low </td><td>Yes</td><td>No   </td><td>Maybe</td><td>No   </td><td>Yes     </td><td>1</td></tr>\n",
       "\t<tr><td>2014-08-27 12:54:00</td><td>Male  </td><td>Russia        </td><td>Others   </td><td>No</td><td>No</td><td>No </td><td>More than 2 months</td><td>Maybe</td><td>Maybe</td><td>Maybe</td><td>High</td><td>Yes</td><td>No   </td><td>Maybe</td><td>No   </td><td>No      </td><td>0</td></tr>\n",
       "\t<tr><td>2014-08-27 12:37:00</td><td>Male  </td><td>United Kingdom</td><td>Homemaker</td><td>No</td><td>No</td><td>No </td><td>15-30 days        </td><td>No   </td><td>No   </td><td>No   </td><td>High</td><td>Yes</td><td>Yes  </td><td>No   </td><td>Maybe</td><td>No      </td><td>0</td></tr>\n",
       "\t<tr><td>2014-08-28 17:01:00</td><td>Male  </td><td>United States </td><td>Business </td><td>No</td><td>No</td><td>No </td><td>1-14 days         </td><td>Yes  </td><td>Maybe</td><td>No   </td><td>High</td><td>Yes</td><td>Maybe</td><td>Yes  </td><td>No   </td><td>Yes     </td><td>0</td></tr>\n",
       "\t<tr><td>2014-08-27 12:40:00</td><td>Female</td><td>United States </td><td>Corporate</td><td>No</td><td>No</td><td>No </td><td>More than 2 months</td><td>No   </td><td>Yes  </td><td>Maybe</td><td>Low </td><td>Yes</td><td>Maybe</td><td>Yes  </td><td>No   </td><td>Not sure</td><td>0</td></tr>\n",
       "</tbody>\n",
       "</table>\n"
      ],
      "text/latex": [
       "A tibble: 6 × 18\n",
       "\\begin{tabular}{llllllllllllllllll}\n",
       " Timestamp & Gender & Country & Occupation & self\\_employed & family\\_history & treatment & Days\\_Indoors & Growing\\_Stress & Changes\\_Habits & Mental\\_Health\\_History & Mood\\_Swings & Coping\\_Struggles & Work\\_Interest & Social\\_Weakness & mental\\_health\\_interview & care\\_options & diagnosed\\\\\n",
       " <dttm> & <fct> & <fct> & <fct> & <fct> & <fct> & <fct> & <chr> & <fct> & <fct> & <chr> & <fct> & <fct> & <fct> & <fct> & <fct> & <fct> & <dbl>\\\\\n",
       "\\hline\n",
       "\t 2014-08-28 12:15:00 & Male   & United Kingdom & Others    & No & No & Yes & 15-30 days         & Yes   & Yes   & Yes   & Low  & Yes & Yes   & Yes   & Yes   & No       & 1\\\\\n",
       "\t 2014-08-28 11:34:00 & Male   & United States  & Business  & No & No & Yes & 15-30 days         & No    & Maybe & No    & Low  & Yes & No    & Maybe & No    & Yes      & 1\\\\\n",
       "\t 2014-08-27 12:54:00 & Male   & Russia         & Others    & No & No & No  & More than 2 months & Maybe & Maybe & Maybe & High & Yes & No    & Maybe & No    & No       & 0\\\\\n",
       "\t 2014-08-27 12:37:00 & Male   & United Kingdom & Homemaker & No & No & No  & 15-30 days         & No    & No    & No    & High & Yes & Yes   & No    & Maybe & No       & 0\\\\\n",
       "\t 2014-08-28 17:01:00 & Male   & United States  & Business  & No & No & No  & 1-14 days          & Yes   & Maybe & No    & High & Yes & Maybe & Yes   & No    & Yes      & 0\\\\\n",
       "\t 2014-08-27 12:40:00 & Female & United States  & Corporate & No & No & No  & More than 2 months & No    & Yes   & Maybe & Low  & Yes & Maybe & Yes   & No    & Not sure & 0\\\\\n",
       "\\end{tabular}\n"
      ],
      "text/markdown": [
       "\n",
       "A tibble: 6 × 18\n",
       "\n",
       "| Timestamp &lt;dttm&gt; | Gender &lt;fct&gt; | Country &lt;fct&gt; | Occupation &lt;fct&gt; | self_employed &lt;fct&gt; | family_history &lt;fct&gt; | treatment &lt;fct&gt; | Days_Indoors &lt;chr&gt; | Growing_Stress &lt;fct&gt; | Changes_Habits &lt;fct&gt; | Mental_Health_History &lt;chr&gt; | Mood_Swings &lt;fct&gt; | Coping_Struggles &lt;fct&gt; | Work_Interest &lt;fct&gt; | Social_Weakness &lt;fct&gt; | mental_health_interview &lt;fct&gt; | care_options &lt;fct&gt; | diagnosed &lt;dbl&gt; |\n",
       "|---|---|---|---|---|---|---|---|---|---|---|---|---|---|---|---|---|---|\n",
       "| 2014-08-28 12:15:00 | Male   | United Kingdom | Others    | No | No | Yes | 15-30 days         | Yes   | Yes   | Yes   | Low  | Yes | Yes   | Yes   | Yes   | No       | 1 |\n",
       "| 2014-08-28 11:34:00 | Male   | United States  | Business  | No | No | Yes | 15-30 days         | No    | Maybe | No    | Low  | Yes | No    | Maybe | No    | Yes      | 1 |\n",
       "| 2014-08-27 12:54:00 | Male   | Russia         | Others    | No | No | No  | More than 2 months | Maybe | Maybe | Maybe | High | Yes | No    | Maybe | No    | No       | 0 |\n",
       "| 2014-08-27 12:37:00 | Male   | United Kingdom | Homemaker | No | No | No  | 15-30 days         | No    | No    | No    | High | Yes | Yes   | No    | Maybe | No       | 0 |\n",
       "| 2014-08-28 17:01:00 | Male   | United States  | Business  | No | No | No  | 1-14 days          | Yes   | Maybe | No    | High | Yes | Maybe | Yes   | No    | Yes      | 0 |\n",
       "| 2014-08-27 12:40:00 | Female | United States  | Corporate | No | No | No  | More than 2 months | No    | Yes   | Maybe | Low  | Yes | Maybe | Yes   | No    | Not sure | 0 |\n",
       "\n"
      ],
      "text/plain": [
       "  Timestamp           Gender Country        Occupation self_employed\n",
       "1 2014-08-28 12:15:00 Male   United Kingdom Others     No           \n",
       "2 2014-08-28 11:34:00 Male   United States  Business   No           \n",
       "3 2014-08-27 12:54:00 Male   Russia         Others     No           \n",
       "4 2014-08-27 12:37:00 Male   United Kingdom Homemaker  No           \n",
       "5 2014-08-28 17:01:00 Male   United States  Business   No           \n",
       "6 2014-08-27 12:40:00 Female United States  Corporate  No           \n",
       "  family_history treatment Days_Indoors       Growing_Stress Changes_Habits\n",
       "1 No             Yes       15-30 days         Yes            Yes           \n",
       "2 No             Yes       15-30 days         No             Maybe         \n",
       "3 No             No        More than 2 months Maybe          Maybe         \n",
       "4 No             No        15-30 days         No             No            \n",
       "5 No             No        1-14 days          Yes            Maybe         \n",
       "6 No             No        More than 2 months No             Yes           \n",
       "  Mental_Health_History Mood_Swings Coping_Struggles Work_Interest\n",
       "1 Yes                   Low         Yes              Yes          \n",
       "2 No                    Low         Yes              No           \n",
       "3 Maybe                 High        Yes              No           \n",
       "4 No                    High        Yes              Yes          \n",
       "5 No                    High        Yes              Maybe        \n",
       "6 Maybe                 Low         Yes              Maybe        \n",
       "  Social_Weakness mental_health_interview care_options diagnosed\n",
       "1 Yes             Yes                     No           1        \n",
       "2 Maybe           No                      Yes          1        \n",
       "3 Maybe           No                      No           0        \n",
       "4 No              Maybe                   No           0        \n",
       "5 Yes             No                      Yes          0        \n",
       "6 Yes             No                      Not sure     0        "
      ]
     },
     "metadata": {},
     "output_type": "display_data"
    }
   ],
   "source": [
    "set.seed(77)  # Setting a seed for reproducibility\n",
    "# Sample 5% of the data\n",
    "sample_df <- data %>% \n",
    "  sample_frac(size = 0.05, replace = FALSE)\n",
    "\n",
    "# View the sampled data\n",
    "head(sample_df)"
   ]
  },
  {
   "cell_type": "markdown",
   "id": "be44e135-b927-4677-9c2e-a701ec8b6e9a",
   "metadata": {},
   "source": [
    "#### Distribution of Treatment Across Demographics"
   ]
  },
  {
   "cell_type": "code",
   "execution_count": 13,
   "id": "43a549ab-18be-447c-9750-0b73d8a79201",
   "metadata": {
    "tags": []
   },
   "outputs": [
    {
     "name": "stderr",
     "output_type": "stream",
     "text": [
      "Installing package into 'C:/Users/xperi/AppData/Local/R/win-library/4.4'\n",
      "(as 'lib' is unspecified)\n",
      "\n",
      "also installing the dependency 'prismatic'\n",
      "\n",
      "\n"
     ]
    },
    {
     "name": "stdout",
     "output_type": "stream",
     "text": [
      "package 'prismatic' successfully unpacked and MD5 sums checked\n",
      "package 'paletteer' successfully unpacked and MD5 sums checked\n",
      "\n",
      "The downloaded binary packages are in\n",
      "\tC:\\Users\\xperi\\AppData\\Local\\Temp\\Rtmp6XrnKA\\downloaded_packages\n"
     ]
    }
   ],
   "source": [
    "install.packages('paletteer')"
   ]
  },
  {
   "cell_type": "code",
   "execution_count": 17,
   "id": "2f6a9721-535b-4ebd-8902-25f225fbfff8",
   "metadata": {
    "tags": []
   },
   "outputs": [
    {
     "name": "stderr",
     "output_type": "stream",
     "text": [
      "Installing package into 'C:/Users/xperi/AppData/Local/R/win-library/4.4'\n",
      "(as 'lib' is unspecified)\n",
      "\n"
     ]
    },
    {
     "name": "stdout",
     "output_type": "stream",
     "text": [
      "package 'ggthemes' successfully unpacked and MD5 sums checked\n",
      "\n",
      "The downloaded binary packages are in\n",
      "\tC:\\Users\\xperi\\AppData\\Local\\Temp\\Rtmp6XrnKA\\downloaded_packages\n"
     ]
    }
   ],
   "source": [
    "install.packages('ggthemes')"
   ]
  },
  {
   "cell_type": "code",
   "execution_count": null,
   "id": "0f613b32-5962-4ec9-a15d-2a194042d20a",
   "metadata": {
    "tags": []
   },
   "outputs": [],
   "source": [
    "\n",
    "# List all discrete palettes\n",
    "paletteer::palettes_d"
   ]
  },
  {
   "cell_type": "code",
   "execution_count": 42,
   "id": "18238c69-5e3c-494a-b642-e0e945ab20ed",
   "metadata": {
    "tags": []
   },
   "outputs": [
    {
     "data": {
      "image/png": "[encoded data removed]",
      "text/plain": [
       "plot without title"
      ]
     },
     "metadata": {
      "image/png": {
       "height": 420,
       "width": 420
      }
     },
     "output_type": "display_data"
    }
   ],
   "source": [
    "# Install required libraries if not already installed\n",
    "required_packages <- c(\"ggplot2\", \"paletteer\", \"dplyr\")\n",
    "install.packages(setdiff(required_packages, installed.packages()[, \"Package\"]))\n",
    "\n",
    "# Load libraries\n",
    "library(ggplot2)\n",
    "library(paletteer)\n",
    "library(dplyr)\n",
    "\n",
    "# Example dataset (replace with your own data)\n",
    "set.seed(123)  # For reproducibility\n",
    "df <- data.frame(\n",
    "  Gender = sample(c(\"Male\", \"Female\"), 100, replace = TRUE),\n",
    "  treatment = sample(c(\"Yes\", \"No\"), 100, replace = TRUE)\n",
    ")\n",
    "\n",
    "# Generate the plot using the fishualize::Hypsoblennius_invemar palette\n",
    "ggplot(data, aes(x = Gender, fill = treatment)) +\n",
    "  geom_bar(position = \"fill\") +\n",
    "  labs(\n",
    "    title = \"Proportion of Treatment by Gender\",\n",
    "    x = \"Gender\",\n",
    "    y = \"Proportion\"\n",
    "  ) +\n",
    "  scale_fill_paletteer_d(\"lisa::EdvardMunch\") +  # Apply the requested palette\n",
    "  theme_minimal()\n"
   ]
  },
  {
   "cell_type": "code",
   "execution_count": 44,
   "id": "f25c05c3-a5ee-4bf8-b297-c8cc1881a7af",
   "metadata": {
    "tags": []
   },
   "outputs": [
    {
     "data": {
      "image/png": "[encoded data removed]",
      "text/plain": [
       "plot without title"
      ]
     },
     "metadata": {
      "image/png": {
       "height": 420,
       "width": 420
      }
     },
     "output_type": "display_data"
    }
   ],
   "source": [
    "# By Country\n",
    "ggplot(sample_df, aes(x = Country, fill = treatment)) +\n",
    "  geom_bar(position = \"fill\") +\n",
    "  labs(title = \"Proportion of Treatment by Country\", x = \"Country\", y = \"Proportion\") +\n",
    "  scale_fill_paletteer_d(\"lisa::EdvardMunch\") +  # Apply the requested palette\n",
    "  theme(axis.text.x = element_text(angle = 90, hjust = 1))"
   ]
  },
  {
   "cell_type": "code",
   "execution_count": null,
   "id": "d8e4c548-5033-4402-9f2c-2ee099b70b1c",
   "metadata": {},
   "outputs": [],
   "source": []
  },
  {
   "cell_type": "code",
   "execution_count": 45,
   "id": "30a334f2-a332-46c6-89dc-cc4570193332",
   "metadata": {
    "tags": []
   },
   "outputs": [
    {
     "data": {
      "image/png": "[encoded data removed]",
      "text/plain": [
       "plot without title"
      ]
     },
     "metadata": {
      "image/png": {
       "height": 420,
       "width": 420
      }
     },
     "output_type": "display_data"
    }
   ],
   "source": [
    "# By Occupation\n",
    "ggplot(sample_df, aes(x = Occupation, fill = treatment)) +\n",
    "  geom_bar(position = \"fill\") +\n",
    "  labs(title = \"Proportion of Treatment by Occupation\", x = \"Occupation\", y = \"Proportion\") +\n",
    "   scale_fill_paletteer_d(\"lisa::EdvardMunch\") +  # Apply the requested palette\n",
    "  theme(axis.text.x = element_text(angle = 90, hjust = 1))"
   ]
  },
  {
   "cell_type": "markdown",
   "id": "24853695-c061-419b-9277-cc4c4b619fa9",
   "metadata": {},
   "source": [
    "### Trends in Treatment and Stress Over Time"
   ]
  },
  {
   "cell_type": "code",
   "execution_count": 46,
   "id": "a87dc95f-d36f-4b27-b1e3-cda4eb9c0c70",
   "metadata": {
    "tags": []
   },
   "outputs": [],
   "source": [
    "# Trends in Treatment Over Time\n",
    "treatment_trends <- sample_df %>%\n",
    "  group_by(Timestamp) %>%\n",
    "  summarize(treatment_rate = mean(diagnosed, na.rm = TRUE))"
   ]
  },
  {
   "cell_type": "code",
   "execution_count": 48,
   "id": "973c923f-2b8f-4186-81b6-0a9ff1b45269",
   "metadata": {
    "tags": []
   },
   "outputs": [
    {
     "data": {
      "image/png": "[encoded data removed]",
      "text/plain": [
       "plot without title"
      ]
     },
     "metadata": {
      "image/png": {
       "height": 420,
       "width": 420
      }
     },
     "output_type": "display_data"
    }
   ],
   "source": [
    "ggplot(treatment_trends, aes(x = Timestamp, y = treatment_rate)) +\n",
    "  geom_line(color = \"#565a9c\") +\n",
    " scale_fill_paletteer_d(\"lisa::EdvardMunch\") +  # Apply the requested palette\n",
    "  labs(title = \"Trends in Treatment Over Time\", x = \"Time\", y = \"Treatment Rate\")"
   ]
  },
  {
   "cell_type": "code",
   "execution_count": 49,
   "id": "c59ce7e9-d8b4-4008-ac7b-ff0748869a8a",
   "metadata": {
    "tags": []
   },
   "outputs": [
    {
     "data": {
      "image/png": "[encoded data removed]",
      "text/plain": [
       "plot without title"
      ]
     },
     "metadata": {
      "image/png": {
       "height": 420,
       "width": 420
      }
     },
     "output_type": "display_data"
    }
   ],
   "source": [
    "# Trends in Stress Over Time\n",
    "stress_trends <- data %>%\n",
    "  group_by(Timestamp) %>%\n",
    "  summarize(stress_rate = mean(as.numeric(Growing_Stress == \"Yes\"), na.rm = TRUE))\n",
    "\n",
    "ggplot(stress_trends, aes(x = Timestamp, y = stress_rate)) +\n",
    "  geom_line(color = \"#a74535\") +\n",
    "  labs(title = \"Trends in Stress Over Time\", x = \"Time\", y = \"Stress Rate\")"
   ]
  },
  {
   "cell_type": "code",
   "execution_count": 50,
   "id": "093b9197-2c8a-4aa8-af3f-70f5c75c56d7",
   "metadata": {
    "tags": []
   },
   "outputs": [
    {
     "data": {
      "image/png": "[encoded data removed]",
      "text/plain": [
       "plot without title"
      ]
     },
     "metadata": {
      "image/png": {
       "height": 420,
       "width": 420
      }
     },
     "output_type": "display_data"
    }
   ],
   "source": [
    "ggplot() +\n",
    "  geom_line(data = treatment_trends, aes(x = Timestamp, y = treatment_rate), color = \"#565a9c\") +\n",
    "  geom_line(data = stress_trends, aes(x = Timestamp, y = stress_rate), color = \"#a74535\") +\n",
    "  labs(title = \"Trends in Stress and Treatment Over Time\", x = \"Time\", y = \" Rate\")"
   ]
  },
  {
   "cell_type": "markdown",
   "id": "8b06c391-71f4-4c02-a66f-71a071edee07",
   "metadata": {},
   "source": [
    "### Step 4: Statistical Analysis"
   ]
  },
  {
   "cell_type": "markdown",
   "id": "403acce9-82d7-4fa0-a2a4-a89d6af2a477",
   "metadata": {},
   "source": [
    "#### Chi-Square Test for Categorical Associations"
   ]
  },
  {
   "cell_type": "code",
   "execution_count": 18,
   "id": "53486958-ad97-4304-9918-89c2069343a4",
   "metadata": {
    "tags": []
   },
   "outputs": [
    {
     "name": "stdout",
     "output_type": "stream",
     "text": [
      "\n",
      "\tPearson's Chi-squared test with Yates' continuity correction\n",
      "\n",
      "data:  table(data$Gender, data$treatment)\n",
      "X-squared = 9179.5, df = 1, p-value < 2.2e-16\n",
      "\n"
     ]
    }
   ],
   "source": [
    "# Chi-Square Test for Gender and Treatment\n",
    "chisq_gender <- chisq.test(table(data$Gender, data$treatment))\n",
    "print(chisq_gender)"
   ]
  },
  {
   "cell_type": "code",
   "execution_count": 19,
   "id": "55a03c4b-b05f-4f5c-9ef0-b7a43cf258a4",
   "metadata": {
    "tags": []
   },
   "outputs": [
    {
     "name": "stdout",
     "output_type": "stream",
     "text": [
      "\n",
      "\tPearson's Chi-squared test with Yates' continuity correction\n",
      "\n",
      "data:  table(data$family_history, data$treatment)\n",
      "X-squared = 39330, df = 1, p-value < 2.2e-16\n",
      "\n"
     ]
    }
   ],
   "source": [
    "# Chi-Square Test for Family History and Treatment\n",
    "chisq_family <- chisq.test(table(data$family_history, data$treatment))\n",
    "print(chisq_family)\n"
   ]
  },
  {
   "cell_type": "markdown",
   "id": "92c4805f-4686-4da0-9960-babca224826a",
   "metadata": {},
   "source": [
    "#### Time Series Decomposition"
   ]
  },
  {
   "cell_type": "code",
   "execution_count": 20,
   "id": "8d28bc9d-8aa6-4ed5-90d7-266fa15308d6",
   "metadata": {
    "tags": []
   },
   "outputs": [
    {
     "data": {
      "image/png": "[encoded data removed]",
      "text/plain": [
       "plot without title"
      ]
     },
     "metadata": {
      "image/png": {
       "height": 420,
       "width": 420
      }
     },
     "output_type": "display_data"
    }
   ],
   "source": [
    "# Time Series Object for Treatment\n",
    "ts_treatment <- ts(treatment_trends$treatment_rate, \n",
    "                   start = c(year(min(data$Timestamp)), month(min(data$Timestamp))), \n",
    "                   frequency = 12)\n",
    "\n",
    "# Decompose the Time Series\n",
    "decomp <- stl(ts_treatment, s.window = \"periodic\")\n",
    "plot(decomp)\n"
   ]
  },
  {
   "cell_type": "code",
   "execution_count": 52,
   "id": "9ead1d62-8e5c-40d0-bb94-73ab5bf25529",
   "metadata": {
    "tags": []
   },
   "outputs": [
    {
     "name": "stderr",
     "output_type": "stream",
     "text": [
      "\u001b[1m\u001b[22mDon't know how to automatically pick scale for object of type \u001b[34m<ts>\u001b[39m. Defaulting to continuous.\n",
      "\u001b[1m\u001b[22mDon't know how to automatically pick scale for object of type \u001b[34m<ts>\u001b[39m. Defaulting to continuous.\n"
     ]
    },
    {
     "data": {
      "image/png": "[encoded data removed]",
      "text/plain": [
       "plot without title"
      ]
     },
     "metadata": {
      "image/png": {
       "height": 420,
       "width": 420
      }
     },
     "output_type": "display_data"
    }
   ],
   "source": [
    "library(ggplot2)\n",
    "library(forecast)\n",
    "\n",
    "# Time Series Object for Treatment\n",
    "ts_treatment <- ts(treatment_trends$treatment_rate, \n",
    "                   start = c(year(min(data$Timestamp)), month(min(data$Timestamp))), \n",
    "                   frequency = 12)\n",
    "\n",
    "# Decompose the Time Series\n",
    "decomp <- stl(ts_treatment, s.window = \"periodic\")\n",
    "\n",
    "# Convert the decomposition to a data frame for ggplot\n",
    "decomp_df <- data.frame(\n",
    "  Time = time(ts_treatment),\n",
    "  Observed = ts_treatment,\n",
    "  Trend = decomp$time.series[, \"trend\"],\n",
    "  Seasonal = decomp$time.series[, \"seasonal\"],\n",
    "  Remainder = decomp$time.series[, \"remainder\"]\n",
    ")\n",
    "\n",
    "# Convert to long format for ggplot\n",
    "decomp_long <- reshape2::melt(decomp_df, id.vars = \"Time\", variable.name = \"Component\", value.name = \"Value\")\n",
    "\n",
    "# Plot using ggplot2\n",
    "ggplot(decomp_long, aes(x = Time, y = Value, color = Component)) +\n",
    "  geom_line(size = 1) +\n",
    "  facet_wrap(~Component, ncol = 1, scales = \"free_y\") +\n",
    "  scale_color_manual(values = c(\"Observed\" = \"#2b386a\", \"Trend\" = \"#e2c456\", \n",
    "                                \"Seasonal\" = \"#97A735\", \"Remainder\" = \"#a74535\")) +\n",
    "  labs(\n",
    "    title = \"Seasonal Decomposition of Treatment Rate\",\n",
    "    x = \"Time\",\n",
    "    y = \"Value\"\n",
    "  ) +\n",
    "  theme_minimal() +\n",
    "  theme(\n",
    "    strip.text = element_text(size = 12, face = \"bold\"),\n",
    "    legend.position = \"none\" # Remove legend for clarity\n",
    "  )\n"
   ]
  },
  {
   "cell_type": "markdown",
   "id": "acd6ffb0-7463-46ef-ada4-59e9e28a3857",
   "metadata": {},
   "source": [
    "#### Heatmap for Correlations"
   ]
  },
  {
   "cell_type": "code",
   "execution_count": 22,
   "id": "141d16b5-5234-4f96-9a70-009612df9b8f",
   "metadata": {
    "tags": []
   },
   "outputs": [
    {
     "data": {
      "image/png": "[encoded data removed]",
      "text/plain": [
       "plot without title"
      ]
     },
     "metadata": {
      "image/png": {
       "height": 420,
       "width": 420
      }
     },
     "output_type": "display_data"
    }
   ],
   "source": [
    "library(reshape2)\n",
    "cor_data <- data %>%\n",
    "  select(diagnosed, Gender, family_history, self_employed, Growing_Stress) %>%\n",
    "  mutate(across(everything(), ~as.numeric(as.factor(.)))) # Convert to numeric for correlation\n",
    "\n",
    "cor_matrix <- cor(cor_data, use = \"complete.obs\")\n",
    "heatmap(cor_matrix, col = heat.colors(256), scale = \"row\", margins = c(5, 10))\n"
   ]
  },
  {
   "cell_type": "code",
   "execution_count": 2,
   "id": "f7f578cb-e500-401b-8830-818f8df262f5",
   "metadata": {
    "tags": []
   },
   "outputs": [
    {
     "name": "stderr",
     "output_type": "stream",
     "text": [
      "Warning message:\n",
      "\"package 'reshape2' was built under R version 4.4.2\"\n",
      "Warning message:\n",
      "\"package 'paletteer' was built under R version 4.4.2\"\n",
      "Warning message:\n",
      "\"package 'dplyr' was built under R version 4.4.2\"\n",
      "\n",
      "Attaching package: 'dplyr'\n",
      "\n",
      "\n",
      "The following objects are masked from 'package:stats':\n",
      "\n",
      "    filter, lag\n",
      "\n",
      "\n",
      "The following objects are masked from 'package:base':\n",
      "\n",
      "    intersect, setdiff, setequal, union\n",
      "\n",
      "\n"
     ]
    },
    {
     "data": {
      "image/png": "[encoded data removed]",
      "text/plain": [
       "plot without title"
      ]
     },
     "metadata": {
      "image/png": {
       "height": 420,
       "width": 420
      }
     },
     "output_type": "display_data"
    }
   ],
   "source": [
    "# Install and load required libraries\n",
    "required_packages <- c(\"ggplot2\", \"reshape2\", \"paletteer\", \"dplyr\")\n",
    "install.packages(setdiff(required_packages, installed.packages()[, \"Package\"]))\n",
    "\n",
    "library(ggplot2)\n",
    "library(reshape2)\n",
    "library(paletteer)\n",
    "library(dplyr)\n",
    "\n",
    "# Example Data\n",
    "set.seed(123)\n",
    "data <- data.frame(\n",
    "  diagnosed = sample(c(1, 0), 100, replace = TRUE),\n",
    "  Gender = sample(c(\"Male\", \"Female\"), 100, replace = TRUE),\n",
    "  family_history = sample(c(\"Yes\", \"No\"), 100, replace = TRUE),\n",
    "  self_employed = sample(c(\"Yes\", \"No\"), 100, replace = TRUE),\n",
    "  Growing_Stress = sample(c(\"Yes\", \"No\"), 100, replace = TRUE)\n",
    ")\n",
    "\n",
    "# Prepare data for correlation matrix\n",
    "cor_data <- data %>%\n",
    "  select(diagnosed, Gender, family_history, self_employed, Growing_Stress) %>%\n",
    "  mutate(across(everything(), ~as.numeric(as.factor(.)))) # Convert categorical to numeric\n",
    "\n",
    "# Compute correlation matrix\n",
    "cor_matrix <- cor(cor_data, use = \"complete.obs\")\n",
    "\n",
    "# Reshape the matrix for ggplot2\n",
    "cor_df <- melt(cor_matrix)\n",
    "\n",
    "# Plot heatmap using ggplot2\n",
    "ggplot(cor_df, aes(Var1, Var2, fill = value)) +\n",
    "  geom_tile(color = \"white\") +\n",
    "  scale_fill_paletteer_c(\"viridis::viridis\") +  # Apply a confirmed palettescale_fill_paletteer_d(\"lisa::EdvardMunch\")\n",
    "  labs(\n",
    "    title = \"Correlation Heatmap\",\n",
    "    x = \"\",\n",
    "    y = \"\",\n",
    "    fill = \"Correlation\"\n",
    "  ) +\n",
    "  theme_minimal() +\n",
    "  theme(\n",
    "    axis.text.x = element_text(angle = 45, hjust = 1),\n",
    "    axis.text.y = element_text(size = 10),\n",
    "    plot.title = element_text(size = 14, face = \"bold\", hjust = 0.5)\n",
    "  )\n"
   ]
  },
  {
   "cell_type": "markdown",
   "id": "7c2248fb-a8c3-4756-a3c5-b9b8a9b20589",
   "metadata": {},
   "source": [
    "#### Proportion of Diagnosed by Occupation"
   ]
  },
  {
   "cell_type": "code",
   "execution_count": 12,
   "id": "637b6d4b-0c12-4872-81fa-69703474e9ff",
   "metadata": {
    "tags": []
   },
   "outputs": [
    {
     "data": {
      "image/png": "[encoded data removed]",
      "text/plain": [
       "plot without title"
      ]
     },
     "metadata": {
      "image/png": {
       "height": 420,
       "width": 420
      }
     },
     "output_type": "display_data"
    }
   ],
   "source": [
    "# Install and load necessary libraries\n",
    "required_packages <- c(\"ggplot2\", \"paletteer\", \"dplyr\")\n",
    "install.packages(setdiff(required_packages, installed.packages()[, \"Package\"]))\n",
    "\n",
    "library(ggplot2)\n",
    "library(paletteer)\n",
    "library(dplyr)\n",
    "\n",
    "# Example data\n",
    "set.seed(123)\n",
    "sample_df <- data.frame(\n",
    "  Occupation = sample(c(\"Business\", \"Corporate\", \"Student\", \"Engineer\", \"Doctor\", \"Artist\", \"Teacher\", \"Homemaker\"), 1000, replace = TRUE),\n",
    "  diagnosed = sample(c(0, 1), 100, replace = TRUE)\n",
    ")\n",
    "\n",
    "# Define custom colors using hex codes\n",
    "custom_colors <- c(\"#555ba5\", \"#c8ac7d\")  # Replace with desired hex codes\n",
    "\n",
    "# Generate the bar plot with Edvard Munch color palette\n",
    "ggplot(sample_df, aes(x = Occupation, fill = as.factor(diagnosed))) +\n",
    "  geom_bar(position = \"fill\") +\n",
    "  labs(\n",
    "    title = \"Proportion of Diagnosed by Occupation\",\n",
    "    x = \"Occupation\",\n",
    "    y = \"Proportion\",\n",
    "    fill = \"Diagnosed\"\n",
    "  ) +\n",
    "  scale_fill_manual(values = custom_colors) +  # Apply the Edvard Munch palette\n",
    "  theme_minimal() +  # Clean and modern theme\n",
    "  theme(\n",
    "    axis.text.x = element_text(angle = 90, hjust = 1, vjust = 0.5),  # Adjust x-axis text\n",
    "    plot.title = element_text(hjust = 0.5, size = 14, face = \"bold\"),  # Center and style title\n",
    "    legend.position = \"top\",  # Move legend to the top\n",
    "    legend.title = element_text(face = \"bold\"),  # Bold legend title\n",
    "    legend.text = element_text(size = 10)  # Style legend text\n",
    "  )\n"
   ]
  },
  {
   "cell_type": "markdown",
   "id": "c5eff272-ab61-4e86-a734-08ee67919932",
   "metadata": {},
   "source": []
  },
  {
   "cell_type": "markdown",
   "id": "c84a3702-9292-4676-a82f-ce7c608bea07",
   "metadata": {},
   "source": [
    "### Step 6: Modeling"
   ]
  },
  {
   "cell_type": "markdown",
   "id": "c959d5be-bbeb-48a4-8b78-da4a7e4dea49",
   "metadata": {},
   "source": [
    "#### Logistic Regression for Diagnosed Prediction"
   ]
  },
  {
   "cell_type": "code",
   "execution_count": 13,
   "id": "ce07f8f3-ec0e-4164-8943-8a7b7e34a3d8",
   "metadata": {
    "tags": []
   },
   "outputs": [
    {
     "ename": "ERROR",
     "evalue": "Error in drop_na(., Gender, Country, Occupation, self_employed, family_history, : could not find function \"drop_na\"\n",
     "output_type": "error",
     "traceback": [
      "Error in drop_na(., Gender, Country, Occupation, self_employed, family_history, : could not find function \"drop_na\"\nTraceback:\n",
      "1. data %>% drop_na(Gender, Country, Occupation, self_employed, \n .     family_history, diagnosed)"
     ]
    }
   ],
   "source": [
    "library(caret)\n",
    "\n",
    "# Remove rows with missing values\n",
    "data_clean <- data %>% drop_na(Gender, Country, Occupation, self_employed, family_history, diagnosed)\n",
    "\n",
    "# Logistic Regression Model\n",
    "logit_model <- glm(diagnosed ~ Gender + Country + Occupation + self_employed + family_history, \n",
    "                   data = data_clean, family = binomial())\n",
    "\n",
    "# Summary of the Model\n",
    "summary(logit_model)\n",
    "\n",
    "# Predictive Performance\n",
    "pred <- predict(logit_model, type = \"response\")\n",
    "\n",
    "# Ensure the prediction and actual lengths match\n",
    "confusionMatrix(\n",
    "  as.factor(ifelse(pred > 0.5, 1, 0)), \n",
    "  as.factor(data_clean$diagnosed)\n",
    ")\n"
   ]
  },
  {
   "cell_type": "markdown",
   "id": "e03d3a3f-1137-4a3d-8a71-831d0329d925",
   "metadata": {
    "tags": []
   },
   "source": [
    "#### 1. Coefficient Plot\n",
    "Visualizing the coefficients and their confidence intervals helps interpret the impact of each predictor on the likelihood of being diagnosed."
   ]
  },
  {
   "cell_type": "code",
   "execution_count": 39,
   "id": "bce46ac7-9834-44e6-ab6e-4baa91a54a82",
   "metadata": {
    "tags": []
   },
   "outputs": [
    {
     "name": "stderr",
     "output_type": "stream",
     "text": [
      "Warning message:\n",
      "\"glm.fit: fitted probabilities numerically 0 or 1 occurred\"\n",
      "Warning message:\n",
      "\"glm.fit: fitted probabilities numerically 0 or 1 occurred\"\n",
      "Warning message:\n",
      "\"glm.fit: fitted probabilities numerically 0 or 1 occurred\"\n",
      "Warning message:\n",
      "\"glm.fit: fitted probabilities numerically 0 or 1 occurred\"\n",
      "Warning message:\n",
      "\"glm.fit: fitted probabilities numerically 0 or 1 occurred\"\n",
      "Warning message:\n",
      "\"glm.fit: fitted probabilities numerically 0 or 1 occurred\"\n",
      "Warning message:\n",
      "\"glm.fit: fitted probabilities numerically 0 or 1 occurred\"\n",
      "Warning message:\n",
      "\"glm.fit: fitted probabilities numerically 0 or 1 occurred\"\n",
      "Warning message:\n",
      "\"glm.fit: fitted probabilities numerically 0 or 1 occurred\"\n",
      "Warning message:\n",
      "\"glm.fit: fitted probabilities numerically 0 or 1 occurred\"\n",
      "Warning message:\n",
      "\"glm.fit: fitted probabilities numerically 0 or 1 occurred\"\n",
      "Warning message:\n",
      "\"glm.fit: fitted probabilities numerically 0 or 1 occurred\"\n",
      "Warning message:\n",
      "\"glm.fit: fitted probabilities numerically 0 or 1 occurred\"\n",
      "Warning message:\n",
      "\"glm.fit: fitted probabilities numerically 0 or 1 occurred\"\n",
      "Warning message:\n",
      "\"glm.fit: fitted probabilities numerically 0 or 1 occurred\"\n",
      "Warning message:\n",
      "\"glm.fit: fitted probabilities numerically 0 or 1 occurred\"\n",
      "Warning message:\n",
      "\"glm.fit: fitted probabilities numerically 0 or 1 occurred\"\n",
      "Warning message:\n",
      "\"glm.fit: fitted probabilities numerically 0 or 1 occurred\"\n",
      "Warning message:\n",
      "\"glm.fit: fitted probabilities numerically 0 or 1 occurred\"\n",
      "Warning message:\n",
      "\"glm.fit: fitted probabilities numerically 0 or 1 occurred\"\n",
      "Warning message:\n",
      "\"glm.fit: fitted probabilities numerically 0 or 1 occurred\"\n",
      "Warning message:\n",
      "\"glm.fit: fitted probabilities numerically 0 or 1 occurred\"\n",
      "Warning message:\n",
      "\"glm.fit: fitted probabilities numerically 0 or 1 occurred\"\n",
      "Warning message:\n",
      "\"glm.fit: fitted probabilities numerically 0 or 1 occurred\"\n",
      "Warning message:\n",
      "\"glm.fit: fitted probabilities numerically 0 or 1 occurred\"\n",
      "Warning message:\n",
      "\"glm.fit: fitted probabilities numerically 0 or 1 occurred\"\n",
      "Warning message:\n",
      "\"glm.fit: fitted probabilities numerically 0 or 1 occurred\"\n",
      "Warning message:\n",
      "\"glm.fit: fitted probabilities numerically 0 or 1 occurred\"\n",
      "Warning message:\n",
      "\"glm.fit: fitted probabilities numerically 0 or 1 occurred\"\n",
      "Warning message:\n",
      "\"glm.fit: fitted probabilities numerically 0 or 1 occurred\"\n",
      "Warning message:\n",
      "\"glm.fit: fitted probabilities numerically 0 or 1 occurred\"\n",
      "Warning message:\n",
      "\"glm.fit: fitted probabilities numerically 0 or 1 occurred\"\n",
      "Warning message:\n",
      "\"glm.fit: fitted probabilities numerically 0 or 1 occurred\"\n",
      "Warning message:\n",
      "\"glm.fit: fitted probabilities numerically 0 or 1 occurred\"\n",
      "Warning message:\n",
      "\"glm.fit: fitted probabilities numerically 0 or 1 occurred\"\n",
      "Warning message:\n",
      "\"glm.fit: fitted probabilities numerically 0 or 1 occurred\"\n",
      "Warning message:\n",
      "\"glm.fit: fitted probabilities numerically 0 or 1 occurred\"\n",
      "Warning message:\n",
      "\"glm.fit: fitted probabilities numerically 0 or 1 occurred\"\n",
      "Warning message:\n",
      "\"glm.fit: fitted probabilities numerically 0 or 1 occurred\"\n",
      "Warning message:\n",
      "\"glm.fit: fitted probabilities numerically 0 or 1 occurred\"\n",
      "Warning message:\n",
      "\"glm.fit: fitted probabilities numerically 0 or 1 occurred\"\n",
      "Warning message:\n",
      "\"glm.fit: fitted probabilities numerically 0 or 1 occurred\"\n",
      "Warning message:\n",
      "\"glm.fit: fitted probabilities numerically 0 or 1 occurred\"\n",
      "Warning message:\n",
      "\"glm.fit: fitted probabilities numerically 0 or 1 occurred\"\n",
      "Warning message:\n",
      "\"glm.fit: fitted probabilities numerically 0 or 1 occurred\"\n",
      "Warning message:\n",
      "\"glm.fit: fitted probabilities numerically 0 or 1 occurred\"\n",
      "Warning message:\n",
      "\"glm.fit: fitted probabilities numerically 0 or 1 occurred\"\n",
      "Warning message:\n",
      "\"glm.fit: fitted probabilities numerically 0 or 1 occurred\"\n",
      "Warning message:\n",
      "\"glm.fit: fitted probabilities numerically 0 or 1 occurred\"\n",
      "Warning message:\n",
      "\"glm.fit: fitted probabilities numerically 0 or 1 occurred\"\n",
      "Warning message:\n",
      "\"glm.fit: fitted probabilities numerically 0 or 1 occurred\"\n",
      "Warning message:\n",
      "\"glm.fit: fitted probabilities numerically 0 or 1 occurred\"\n",
      "Warning message:\n",
      "\"glm.fit: fitted probabilities numerically 0 or 1 occurred\"\n",
      "Warning message:\n",
      "\"glm.fit: fitted probabilities numerically 0 or 1 occurred\"\n",
      "Warning message:\n",
      "\"glm.fit: fitted probabilities numerically 0 or 1 occurred\"\n",
      "Warning message:\n",
      "\"glm.fit: fitted probabilities numerically 0 or 1 occurred\"\n",
      "Warning message:\n",
      "\"glm.fit: fitted probabilities numerically 0 or 1 occurred\"\n",
      "Warning message:\n",
      "\"glm.fit: fitted probabilities numerically 0 or 1 occurred\"\n",
      "Warning message:\n",
      "\"glm.fit: fitted probabilities numerically 0 or 1 occurred\"\n",
      "Warning message:\n",
      "\"glm.fit: fitted probabilities numerically 0 or 1 occurred\"\n",
      "Warning message:\n",
      "\"glm.fit: fitted probabilities numerically 0 or 1 occurred\"\n",
      "Warning message:\n",
      "\"glm.fit: fitted probabilities numerically 0 or 1 occurred\"\n",
      "Warning message:\n",
      "\"glm.fit: fitted probabilities numerically 0 or 1 occurred\"\n",
      "Warning message:\n",
      "\"glm.fit: fitted probabilities numerically 0 or 1 occurred\"\n",
      "Warning message:\n",
      "\"glm.fit: fitted probabilities numerically 0 or 1 occurred\"\n",
      "Warning message:\n",
      "\"glm.fit: fitted probabilities numerically 0 or 1 occurred\"\n",
      "Warning message:\n",
      "\"glm.fit: fitted probabilities numerically 0 or 1 occurred\"\n",
      "Warning message:\n",
      "\"glm.fit: fitted probabilities numerically 0 or 1 occurred\"\n",
      "Warning message:\n",
      "\"glm.fit: fitted probabilities numerically 0 or 1 occurred\"\n",
      "Warning message:\n",
      "\"glm.fit: fitted probabilities numerically 0 or 1 occurred\"\n",
      "Warning message:\n",
      "\"glm.fit: fitted probabilities numerically 0 or 1 occurred\"\n",
      "Warning message:\n",
      "\"glm.fit: fitted probabilities numerically 0 or 1 occurred\"\n",
      "Warning message:\n",
      "\"glm.fit: fitted probabilities numerically 0 or 1 occurred\"\n",
      "Warning message:\n",
      "\"glm.fit: fitted probabilities numerically 0 or 1 occurred\"\n",
      "Warning message:\n",
      "\"glm.fit: fitted probabilities numerically 0 or 1 occurred\"\n",
      "Warning message:\n",
      "\"glm.fit: fitted probabilities numerically 0 or 1 occurred\"\n",
      "Warning message:\n",
      "\"glm.fit: fitted probabilities numerically 0 or 1 occurred\"\n",
      "Warning message:\n",
      "\"glm.fit: fitted probabilities numerically 0 or 1 occurred\"\n",
      "Warning message:\n",
      "\"glm.fit: fitted probabilities numerically 0 or 1 occurred\"\n",
      "Warning message:\n",
      "\"glm.fit: fitted probabilities numerically 0 or 1 occurred\"\n",
      "Warning message:\n",
      "\"glm.fit: fitted probabilities numerically 0 or 1 occurred\"\n",
      "Warning message:\n",
      "\"glm.fit: fitted probabilities numerically 0 or 1 occurred\"\n",
      "Warning message:\n",
      "\"glm.fit: fitted probabilities numerically 0 or 1 occurred\"\n",
      "Warning message:\n",
      "\"glm.fit: fitted probabilities numerically 0 or 1 occurred\"\n",
      "Warning message:\n",
      "\"glm.fit: fitted probabilities numerically 0 or 1 occurred\"\n",
      "Warning message:\n",
      "\"glm.fit: fitted probabilities numerically 0 or 1 occurred\"\n",
      "Warning message:\n",
      "\"glm.fit: fitted probabilities numerically 0 or 1 occurred\"\n",
      "Warning message:\n",
      "\"glm.fit: fitted probabilities numerically 0 or 1 occurred\"\n",
      "Warning message:\n",
      "\"glm.fit: fitted probabilities numerically 0 or 1 occurred\"\n",
      "Warning message:\n",
      "\"glm.fit: fitted probabilities numerically 0 or 1 occurred\"\n",
      "Warning message:\n",
      "\"glm.fit: fitted probabilities numerically 0 or 1 occurred\"\n",
      "Warning message:\n",
      "\"glm.fit: fitted probabilities numerically 0 or 1 occurred\"\n",
      "Warning message:\n",
      "\"glm.fit: fitted probabilities numerically 0 or 1 occurred\"\n",
      "Warning message:\n",
      "\"glm.fit: fitted probabilities numerically 0 or 1 occurred\"\n",
      "Warning message:\n",
      "\"glm.fit: fitted probabilities numerically 0 or 1 occurred\"\n",
      "Warning message:\n",
      "\"glm.fit: fitted probabilities numerically 0 or 1 occurred\"\n",
      "Warning message:\n",
      "\"glm.fit: fitted probabilities numerically 0 or 1 occurred\"\n",
      "Warning message:\n",
      "\"glm.fit: fitted probabilities numerically 0 or 1 occurred\"\n",
      "Warning message:\n",
      "\"glm.fit: fitted probabilities numerically 0 or 1 occurred\"\n",
      "Warning message:\n",
      "\"glm.fit: fitted probabilities numerically 0 or 1 occurred\"\n",
      "Warning message:\n",
      "\"glm.fit: fitted probabilities numerically 0 or 1 occurred\"\n",
      "Warning message:\n",
      "\"glm.fit: fitted probabilities numerically 0 or 1 occurred\"\n",
      "Warning message:\n",
      "\"glm.fit: fitted probabilities numerically 0 or 1 occurred\"\n",
      "Warning message:\n",
      "\"glm.fit: fitted probabilities numerically 0 or 1 occurred\"\n",
      "Warning message:\n",
      "\"glm.fit: fitted probabilities numerically 0 or 1 occurred\"\n",
      "Warning message:\n",
      "\"glm.fit: fitted probabilities numerically 0 or 1 occurred\"\n",
      "Warning message:\n",
      "\"glm.fit: fitted probabilities numerically 0 or 1 occurred\"\n",
      "Warning message:\n",
      "\"glm.fit: fitted probabilities numerically 0 or 1 occurred\"\n",
      "Warning message:\n",
      "\"glm.fit: fitted probabilities numerically 0 or 1 occurred\"\n",
      "Warning message:\n",
      "\"glm.fit: fitted probabilities numerically 0 or 1 occurred\"\n",
      "Warning message:\n",
      "\"glm.fit: fitted probabilities numerically 0 or 1 occurred\"\n",
      "Warning message:\n",
      "\"glm.fit: fitted probabilities numerically 0 or 1 occurred\"\n",
      "Warning message:\n",
      "\"glm.fit: fitted probabilities numerically 0 or 1 occurred\"\n",
      "Warning message:\n",
      "\"glm.fit: fitted probabilities numerically 0 or 1 occurred\"\n",
      "Warning message:\n",
      "\"glm.fit: fitted probabilities numerically 0 or 1 occurred\"\n",
      "Warning message:\n",
      "\"glm.fit: fitted probabilities numerically 0 or 1 occurred\"\n",
      "Warning message:\n",
      "\"glm.fit: fitted probabilities numerically 0 or 1 occurred\"\n",
      "Warning message:\n",
      "\"glm.fit: fitted probabilities numerically 0 or 1 occurred\"\n",
      "Warning message:\n",
      "\"glm.fit: fitted probabilities numerically 0 or 1 occurred\"\n",
      "Warning message:\n",
      "\"glm.fit: fitted probabilities numerically 0 or 1 occurred\"\n",
      "Warning message:\n",
      "\"glm.fit: fitted probabilities numerically 0 or 1 occurred\"\n",
      "Warning message:\n",
      "\"glm.fit: fitted probabilities numerically 0 or 1 occurred\"\n",
      "Warning message:\n",
      "\"glm.fit: fitted probabilities numerically 0 or 1 occurred\"\n",
      "Warning message:\n",
      "\"glm.fit: fitted probabilities numerically 0 or 1 occurred\"\n",
      "Warning message:\n",
      "\"glm.fit: fitted probabilities numerically 0 or 1 occurred\"\n",
      "Warning message:\n",
      "\"glm.fit: fitted probabilities numerically 0 or 1 occurred\"\n",
      "Warning message:\n",
      "\"glm.fit: fitted probabilities numerically 0 or 1 occurred\"\n",
      "Warning message:\n",
      "\"glm.fit: fitted probabilities numerically 0 or 1 occurred\"\n",
      "Warning message:\n",
      "\"glm.fit: fitted probabilities numerically 0 or 1 occurred\"\n",
      "Warning message:\n",
      "\"glm.fit: fitted probabilities numerically 0 or 1 occurred\"\n",
      "Warning message:\n",
      "\"glm.fit: fitted probabilities numerically 0 or 1 occurred\"\n",
      "Warning message:\n",
      "\"glm.fit: fitted probabilities numerically 0 or 1 occurred\"\n",
      "Warning message:\n",
      "\"glm.fit: fitted probabilities numerically 0 or 1 occurred\"\n",
      "Warning message:\n",
      "\"glm.fit: fitted probabilities numerically 0 or 1 occurred\"\n",
      "Warning message:\n",
      "\"glm.fit: fitted probabilities numerically 0 or 1 occurred\"\n",
      "Warning message:\n",
      "\"glm.fit: fitted probabilities numerically 0 or 1 occurred\"\n",
      "Warning message:\n",
      "\"glm.fit: fitted probabilities numerically 0 or 1 occurred\"\n",
      "Warning message:\n",
      "\"glm.fit: fitted probabilities numerically 0 or 1 occurred\"\n",
      "Warning message:\n",
      "\"glm.fit: fitted probabilities numerically 0 or 1 occurred\"\n",
      "Warning message:\n",
      "\"glm.fit: fitted probabilities numerically 0 or 1 occurred\"\n",
      "Warning message:\n",
      "\"glm.fit: fitted probabilities numerically 0 or 1 occurred\"\n",
      "Warning message:\n",
      "\"glm.fit: fitted probabilities numerically 0 or 1 occurred\"\n",
      "Warning message:\n",
      "\"glm.fit: fitted probabilities numerically 0 or 1 occurred\"\n",
      "Warning message:\n",
      "\"glm.fit: fitted probabilities numerically 0 or 1 occurred\"\n",
      "Warning message:\n",
      "\"glm.fit: fitted probabilities numerically 0 or 1 occurred\"\n",
      "Warning message:\n",
      "\"glm.fit: fitted probabilities numerically 0 or 1 occurred\"\n",
      "Warning message:\n",
      "\"glm.fit: fitted probabilities numerically 0 or 1 occurred\"\n",
      "Warning message:\n",
      "\"glm.fit: fitted probabilities numerically 0 or 1 occurred\"\n",
      "Warning message:\n",
      "\"glm.fit: fitted probabilities numerically 0 or 1 occurred\"\n",
      "Warning message:\n",
      "\"glm.fit: fitted probabilities numerically 0 or 1 occurred\"\n",
      "Warning message:\n",
      "\"glm.fit: fitted probabilities numerically 0 or 1 occurred\"\n",
      "Warning message:\n",
      "\"glm.fit: fitted probabilities numerically 0 or 1 occurred\"\n",
      "Warning message:\n",
      "\"glm.fit: fitted probabilities numerically 0 or 1 occurred\"\n",
      "Warning message:\n",
      "\"glm.fit: fitted probabilities numerically 0 or 1 occurred\"\n",
      "Warning message:\n",
      "\"glm.fit: fitted probabilities numerically 0 or 1 occurred\"\n",
      "Warning message:\n",
      "\"glm.fit: fitted probabilities numerically 0 or 1 occurred\"\n",
      "Warning message:\n",
      "\"glm.fit: fitted probabilities numerically 0 or 1 occurred\"\n",
      "Warning message:\n",
      "\"glm.fit: fitted probabilities numerically 0 or 1 occurred\"\n",
      "Warning message:\n",
      "\"glm.fit: fitted probabilities numerically 0 or 1 occurred\"\n",
      "Warning message:\n",
      "\"glm.fit: fitted probabilities numerically 0 or 1 occurred\"\n",
      "Warning message:\n",
      "\"glm.fit: fitted probabilities numerically 0 or 1 occurred\"\n",
      "Warning message:\n",
      "\"glm.fit: fitted probabilities numerically 0 or 1 occurred\"\n",
      "Warning message:\n",
      "\"glm.fit: fitted probabilities numerically 0 or 1 occurred\"\n",
      "Warning message:\n",
      "\"glm.fit: fitted probabilities numerically 0 or 1 occurred\"\n",
      "Warning message:\n",
      "\"glm.fit: fitted probabilities numerically 0 or 1 occurred\"\n",
      "Warning message:\n",
      "\"glm.fit: fitted probabilities numerically 0 or 1 occurred\"\n",
      "Warning message:\n",
      "\"glm.fit: fitted probabilities numerically 0 or 1 occurred\"\n",
      "Warning message:\n",
      "\"glm.fit: fitted probabilities numerically 0 or 1 occurred\"\n",
      "Warning message:\n",
      "\"glm.fit: fitted probabilities numerically 0 or 1 occurred\"\n",
      "Warning message:\n",
      "\"glm.fit: fitted probabilities numerically 0 or 1 occurred\"\n",
      "Warning message:\n",
      "\"glm.fit: fitted probabilities numerically 0 or 1 occurred\"\n",
      "Warning message:\n",
      "\"glm.fit: fitted probabilities numerically 0 or 1 occurred\"\n",
      "Warning message:\n",
      "\"glm.fit: fitted probabilities numerically 0 or 1 occurred\"\n",
      "Warning message:\n",
      "\"glm.fit: fitted probabilities numerically 0 or 1 occurred\"\n",
      "Warning message:\n",
      "\"glm.fit: fitted probabilities numerically 0 or 1 occurred\"\n",
      "Warning message:\n",
      "\"glm.fit: fitted probabilities numerically 0 or 1 occurred\"\n",
      "Warning message:\n",
      "\"glm.fit: fitted probabilities numerically 0 or 1 occurred\"\n",
      "Warning message:\n",
      "\"glm.fit: fitted probabilities numerically 0 or 1 occurred\"\n",
      "Warning message:\n",
      "\"glm.fit: fitted probabilities numerically 0 or 1 occurred\"\n",
      "Warning message:\n",
      "\"glm.fit: fitted probabilities numerically 0 or 1 occurred\"\n",
      "Warning message:\n",
      "\"glm.fit: fitted probabilities numerically 0 or 1 occurred\"\n",
      "Warning message:\n",
      "\"glm.fit: fitted probabilities numerically 0 or 1 occurred\"\n",
      "Warning message:\n",
      "\"glm.fit: fitted probabilities numerically 0 or 1 occurred\"\n",
      "Warning message:\n",
      "\"glm.fit: fitted probabilities numerically 0 or 1 occurred\"\n",
      "Warning message:\n",
      "\"glm.fit: fitted probabilities numerically 0 or 1 occurred\"\n",
      "Warning message:\n",
      "\"glm.fit: fitted probabilities numerically 0 or 1 occurred\"\n",
      "Warning message:\n",
      "\"glm.fit: fitted probabilities numerically 0 or 1 occurred\"\n",
      "Warning message:\n",
      "\"glm.fit: fitted probabilities numerically 0 or 1 occurred\"\n",
      "Warning message:\n",
      "\"glm.fit: fitted probabilities numerically 0 or 1 occurred\"\n",
      "Warning message:\n",
      "\"glm.fit: fitted probabilities numerically 0 or 1 occurred\"\n",
      "Warning message:\n",
      "\"glm.fit: fitted probabilities numerically 0 or 1 occurred\"\n",
      "Warning message:\n",
      "\"glm.fit: fitted probabilities numerically 0 or 1 occurred\"\n",
      "Warning message:\n",
      "\"glm.fit: fitted probabilities numerically 0 or 1 occurred\"\n",
      "Warning message:\n",
      "\"glm.fit: fitted probabilities numerically 0 or 1 occurred\"\n",
      "Warning message:\n",
      "\"glm.fit: fitted probabilities numerically 0 or 1 occurred\"\n",
      "Warning message:\n",
      "\"glm.fit: fitted probabilities numerically 0 or 1 occurred\"\n",
      "Warning message:\n",
      "\"glm.fit: fitted probabilities numerically 0 or 1 occurred\"\n",
      "Warning message:\n",
      "\"glm.fit: fitted probabilities numerically 0 or 1 occurred\"\n",
      "Warning message:\n",
      "\"glm.fit: fitted probabilities numerically 0 or 1 occurred\"\n",
      "Warning message:\n",
      "\"glm.fit: fitted probabilities numerically 0 or 1 occurred\"\n",
      "Warning message:\n",
      "\"glm.fit: fitted probabilities numerically 0 or 1 occurred\"\n",
      "Warning message:\n",
      "\"glm.fit: fitted probabilities numerically 0 or 1 occurred\"\n",
      "Warning message:\n",
      "\"glm.fit: fitted probabilities numerically 0 or 1 occurred\"\n",
      "Warning message:\n",
      "\"glm.fit: fitted probabilities numerically 0 or 1 occurred\"\n",
      "Warning message:\n",
      "\"glm.fit: fitted probabilities numerically 0 or 1 occurred\"\n",
      "Warning message:\n",
      "\"glm.fit: fitted probabilities numerically 0 or 1 occurred\"\n",
      "Warning message:\n",
      "\"glm.fit: fitted probabilities numerically 0 or 1 occurred\"\n",
      "Warning message:\n",
      "\"glm.fit: fitted probabilities numerically 0 or 1 occurred\"\n",
      "Warning message:\n",
      "\"glm.fit: fitted probabilities numerically 0 or 1 occurred\"\n",
      "Warning message:\n",
      "\"glm.fit: fitted probabilities numerically 0 or 1 occurred\"\n",
      "Warning message:\n",
      "\"glm.fit: fitted probabilities numerically 0 or 1 occurred\"\n",
      "Warning message:\n",
      "\"glm.fit: fitted probabilities numerically 0 or 1 occurred\"\n",
      "Warning message:\n",
      "\"glm.fit: fitted probabilities numerically 0 or 1 occurred\"\n",
      "Warning message:\n",
      "\"glm.fit: fitted probabilities numerically 0 or 1 occurred\"\n",
      "Warning message:\n",
      "\"glm.fit: fitted probabilities numerically 0 or 1 occurred\"\n",
      "Warning message:\n",
      "\"glm.fit: fitted probabilities numerically 0 or 1 occurred\"\n",
      "Warning message:\n",
      "\"glm.fit: fitted probabilities numerically 0 or 1 occurred\"\n",
      "Warning message:\n",
      "\"glm.fit: fitted probabilities numerically 0 or 1 occurred\"\n",
      "Warning message:\n",
      "\"glm.fit: fitted probabilities numerically 0 or 1 occurred\"\n",
      "Warning message:\n",
      "\"glm.fit: fitted probabilities numerically 0 or 1 occurred\"\n",
      "Warning message:\n",
      "\"glm.fit: fitted probabilities numerically 0 or 1 occurred\"\n",
      "Warning message:\n",
      "\"glm.fit: fitted probabilities numerically 0 or 1 occurred\"\n",
      "Warning message:\n",
      "\"glm.fit: fitted probabilities numerically 0 or 1 occurred\"\n",
      "Warning message:\n",
      "\"glm.fit: fitted probabilities numerically 0 or 1 occurred\"\n",
      "Warning message:\n",
      "\"glm.fit: fitted probabilities numerically 0 or 1 occurred\"\n",
      "Warning message:\n",
      "\"glm.fit: fitted probabilities numerically 0 or 1 occurred\"\n",
      "Warning message:\n",
      "\"glm.fit: fitted probabilities numerically 0 or 1 occurred\"\n",
      "Warning message:\n",
      "\"glm.fit: fitted probabilities numerically 0 or 1 occurred\"\n",
      "Warning message:\n",
      "\"glm.fit: fitted probabilities numerically 0 or 1 occurred\"\n",
      "Warning message:\n",
      "\"glm.fit: fitted probabilities numerically 0 or 1 occurred\"\n",
      "Warning message:\n",
      "\"glm.fit: fitted probabilities numerically 0 or 1 occurred\"\n",
      "Warning message:\n",
      "\"glm.fit: fitted probabilities numerically 0 or 1 occurred\"\n",
      "Warning message:\n",
      "\"glm.fit: fitted probabilities numerically 0 or 1 occurred\"\n",
      "Warning message:\n",
      "\"glm.fit: fitted probabilities numerically 0 or 1 occurred\"\n",
      "Warning message:\n",
      "\"glm.fit: fitted probabilities numerically 0 or 1 occurred\"\n",
      "Warning message:\n",
      "\"glm.fit: fitted probabilities numerically 0 or 1 occurred\"\n",
      "Warning message:\n",
      "\"glm.fit: fitted probabilities numerically 0 or 1 occurred\"\n",
      "Warning message:\n",
      "\"glm.fit: fitted probabilities numerically 0 or 1 occurred\"\n",
      "Warning message:\n",
      "\"glm.fit: fitted probabilities numerically 0 or 1 occurred\"\n",
      "Warning message:\n",
      "\"glm.fit: fitted probabilities numerically 0 or 1 occurred\"\n",
      "Warning message:\n",
      "\"glm.fit: fitted probabilities numerically 0 or 1 occurred\"\n",
      "Warning message:\n",
      "\"glm.fit: fitted probabilities numerically 0 or 1 occurred\"\n",
      "Warning message:\n",
      "\"glm.fit: fitted probabilities numerically 0 or 1 occurred\"\n",
      "Warning message:\n",
      "\"glm.fit: fitted probabilities numerically 0 or 1 occurred\"\n",
      "Warning message in regularize.values(x, y, ties, missing(ties), na.rm = na.rm):\n",
      "\"collapsing to unique 'x' values\"\n",
      "Warning message in regularize.values(x, y, ties, missing(ties), na.rm = na.rm):\n",
      "\"collapsing to unique 'x' values\"\n",
      "Warning message in regularize.values(x, y, ties, missing(ties), na.rm = na.rm):\n",
      "\"collapsing to unique 'x' values\"\n",
      "Warning message in regularize.values(x, y, ties, missing(ties), na.rm = na.rm):\n",
      "\"collapsing to unique 'x' values\"\n",
      "Warning message in regularize.values(x, y, ties, missing(ties), na.rm = na.rm):\n",
      "\"collapsing to unique 'x' values\"\n",
      "Warning message in regularize.values(x, y, ties, missing(ties), na.rm = na.rm):\n",
      "\"collapsing to unique 'x' values\"\n",
      "Warning message in regularize.values(x, y, ties, missing(ties), na.rm = na.rm):\n",
      "\"collapsing to unique 'x' values\"\n"
     ]
    },
    {
     "data": {
      "image/png": "[encoded data removed]",
      "text/plain": [
       "plot without title"
      ]
     },
     "metadata": {
      "image/png": {
       "height": 420,
       "width": 420
      }
     },
     "output_type": "display_data"
    }
   ],
   "source": [
    "library(broom)\n",
    "library(ggplot2)\n",
    "\n",
    "# Extract coefficients and confidence intervals\n",
    "coefficients_df <- tidy(logit_model, conf.int = TRUE)\n",
    "\n",
    "# Filter out the intercept\n",
    "coefficients_df <- coefficients_df %>% filter(term != \"(Intercept)\")\n",
    "\n",
    "# Save calibration_df as a CSV file\n",
    "write.csv(coefficients_df, file = \"coefficients_df.csv\", row.names = FALSE)\n",
    "\n",
    "# Coefficient plot\n",
    "ggplot(coefficients_df, aes(x = reorder(term, estimate), y = estimate, ymin = conf.low, ymax = conf.high)) +\n",
    "  geom_pointrange(color = \"blue\", size = 0.7) +\n",
    "  geom_hline(yintercept = 0, linetype = \"dashed\", color = \"red\") +\n",
    "  coord_flip() +\n",
    "  labs(\n",
    "    title = \"Logistic Regression Coefficients\",\n",
    "    x = \"Predictor Variables\",\n",
    "    y = \"Estimate (Log Odds)\"\n",
    "  ) +\n",
    "  theme_minimal()\n"
   ]
  },
  {
   "cell_type": "markdown",
   "id": "9055132f-28e4-4e69-8ce0-fd47a39b751f",
   "metadata": {},
   "source": [
    "#### 2. ROC Curve\n",
    "Visualize the trade-off between sensitivity and specificity."
   ]
  },
  {
   "cell_type": "code",
   "execution_count": 26,
   "id": "1db1eb1a-6f16-467a-9742-78b043987060",
   "metadata": {},
   "outputs": [
    {
     "name": "stderr",
     "output_type": "stream",
     "text": [
      "Warning message:\n",
      "\"package 'pROC' was built under R version 4.4.2\"\n",
      "Type 'citation(\"pROC\")' for a citation.\n",
      "\n",
      "\n",
      "Attaching package: 'pROC'\n",
      "\n",
      "\n",
      "The following objects are masked from 'package:stats':\n",
      "\n",
      "    cov, smooth, var\n",
      "\n",
      "\n",
      "Setting levels: control = 0, case = 1\n",
      "\n",
      "Setting direction: controls < cases\n",
      "\n"
     ]
    },
    {
     "data": {
      "image/png": "[encoded data removed]",
      "text/plain": [
       "plot without title"
      ]
     },
     "metadata": {
      "image/png": {
       "height": 420,
       "width": 420
      }
     },
     "output_type": "display_data"
    }
   ],
   "source": [
    "library(pROC)\n",
    "\n",
    "# Compute ROC curve\n",
    "roc_curve <- roc(data_clean$diagnosed, pred)\n",
    "\n",
    "# Plot ROC curve\n",
    "ggroc(roc_curve, color = \"#555ba5\", size = 1) +\n",
    "  labs(\n",
    "    title = \"ROC Curve for Logistic Regression Model\",\n",
    "    x = \"False Positive Rate\",\n",
    "    y = \"True Positive Rate\"\n",
    "  ) +\n",
    "  theme_minimal()\n"
   ]
  },
  {
   "cell_type": "markdown",
   "id": "ed6002f8-b0c3-48d1-a3c2-f2bcd5dc8fe6",
   "metadata": {},
   "source": [
    "#### 3. Confusion Matrix Heatmap\n",
    "Plot the confusion matrix as a heatmap for a clear view of the model's performance"
   ]
  },
  {
   "cell_type": "code",
   "execution_count": 28,
   "id": "f2b8c2ba-72cd-4e9f-82e9-452261505e52",
   "metadata": {},
   "outputs": [
    {
     "data": {
      "image/png": "[encoded data removed]",
      "text/plain": [
       "plot without title"
      ]
     },
     "metadata": {
      "image/png": {
       "height": 420,
       "width": 420
      }
     },
     "output_type": "display_data"
    }
   ],
   "source": [
    "# Generate confusion matrix\n",
    "conf_matrix <- confusionMatrix(as.factor(ifelse(pred > 0.5, 1, 0)), as.factor(data_clean$diagnosed))\n",
    "\n",
    "# Convert confusion matrix to a data frame\n",
    "conf_matrix_df <- as.data.frame(as.table(conf_matrix$table))\n",
    "\n",
    "# Plot confusion matrix as heatmap\n",
    "ggplot(conf_matrix_df, aes(x = Prediction, y = Reference, fill = Freq)) +\n",
    "  geom_tile() +\n",
    "  geom_text(aes(label = Freq), color = \"white\", size = 5) +\n",
    "  scale_fill_gradient(low = \"blue\", high = \"red\") +\n",
    "  labs(\n",
    "    title = \"Confusion Matrix Heatmap\",\n",
    "    x = \"Predicted\",\n",
    "    y = \"Actual\"\n",
    "  ) +\n",
    "  theme_minimal()\n"
   ]
  },
  {
   "cell_type": "markdown",
   "id": "68845d0a-719e-439e-8d4e-d7ac25e73868",
   "metadata": {},
   "source": [
    "#### 4. Calibration Plot\n",
    "Evaluate how well the predicted probabilities match observed outcomes."
   ]
  },
  {
   "cell_type": "code",
   "execution_count": 29,
   "id": "bd4c8cf6-1005-45b1-857d-f62892c62141",
   "metadata": {
    "tags": []
   },
   "outputs": [
    {
     "name": "stderr",
     "output_type": "stream",
     "text": [
      "\u001b[1m\u001b[22m`geom_smooth()` using formula = 'y ~ x'\n",
      "Warning message:\n",
      "\"\u001b[1m\u001b[22mFailed to fit group -1.\n",
      "Caused by error in `predLoess()`:\n",
      "\u001b[33m!\u001b[39m workspace required (123695821243) is too large probably because of setting 'se = TRUE'.\"\n"
     ]
    },
    {
     "data": {
      "image/png": "[encoded data removed]",
      "text/plain": [
       "plot without title"
      ]
     },
     "metadata": {
      "image/png": {
       "height": 420,
       "width": 420
      }
     },
     "output_type": "display_data"
    }
   ],
   "source": [
    "# Create a data frame with observed and predicted values\n",
    "calibration_df <- data.frame(\n",
    "  Observed = data_clean$diagnosed,\n",
    "  Predicted = pred\n",
    ")\n",
    "\n",
    "# Calibration plot\n",
    "ggplot(calibration_df, aes(x = Predicted, y = Observed)) +\n",
    "  geom_point(alpha = 0.5) +\n",
    "  geom_smooth(method = \"loess\", color = \"blue\", se = TRUE) +\n",
    "  labs(\n",
    "    title = \"Calibration Plot\",\n",
    "    x = \"Predicted Probability\",\n",
    "    y = \"Observed Outcome\"\n",
    "  ) +\n",
    "  theme_minimal()\n"
   ]
  },
  {
   "cell_type": "code",
   "execution_count": 31,
   "id": "cd6c1115-5665-41ec-80f2-ea197a0965d0",
   "metadata": {
    "tags": []
   },
   "outputs": [],
   "source": [
    "# Save calibration_df as a CSV file\n",
    "write.csv(calibration_df, file = \"calibration_df.csv\", row.names = FALSE)"
   ]
  },
  {
   "cell_type": "markdown",
   "id": "3921a036-4643-4394-b2ee-97725a033937",
   "metadata": {},
   "source": [
    "#### 5. Predicted Probabilities by Predictor Group\n",
    "Visualize how predicted probabilities vary by key predictors."
   ]
  },
  {
   "cell_type": "code",
   "execution_count": 30,
   "id": "a792c759-edbb-444a-aba5-3997372e478d",
   "metadata": {
    "tags": []
   },
   "outputs": [
    {
     "data": {
      "image/png": "[encoded data removed]",
      "text/plain": [
       "plot without title"
      ]
     },
     "metadata": {
      "image/png": {
       "height": 420,
       "width": 420
      }
     },
     "output_type": "display_data"
    },
    {
     "data": {
      "image/png": "[encoded data removed]",
      "text/plain": [
       "plot without title"
      ]
     },
     "metadata": {
      "image/png": {
       "height": 420,
       "width": 420
      }
     },
     "output_type": "display_data"
    }
   ],
   "source": [
    "# Add predicted probabilities to the dataset\n",
    "data_clean <- data_clean %>% mutate(predicted_prob = pred)\n",
    "\n",
    "# Predicted probabilities by Family History\n",
    "ggplot(data_clean, aes(x = family_history, y = predicted_prob, fill = family_history)) +\n",
    "  geom_boxplot() +\n",
    "  labs(\n",
    "    title = \"Predicted Probabilities by Family History\",\n",
    "    x = \"Family History\",\n",
    "    y = \"Predicted Probability\"\n",
    "  ) +\n",
    "  theme_minimal()\n",
    "\n",
    "# Predicted probabilities by Gender\n",
    "ggplot(data_clean, aes(x = Gender, y = predicted_prob, fill = Gender)) +\n",
    "  geom_boxplot() +\n",
    "  labs(\n",
    "    title = \"Predicted Probabilities by Gender\",\n",
    "    x = \"Gender\",\n",
    "    y = \"Predicted Probability\"\n",
    "  ) +\n",
    "  theme_minimal()\n"
   ]
  },
  {
   "cell_type": "markdown",
   "id": "9f66a601-296f-47a3-9697-eeae847bbfe6",
   "metadata": {},
   "source": [
    "#### 6. Variable Importance Plot\n",
    "Although logistic regression doesn’t inherently rank feature importance, you can use the absolute magnitude of coefficients as a proxy."
   ]
  },
  {
   "cell_type": "code",
   "execution_count": 37,
   "id": "6a0a0b0f-57e2-4fec-8d15-1312e7bf152c",
   "metadata": {
    "tags": []
   },
   "outputs": [
    {
     "ename": "ERROR",
     "evalue": "Error in eval(expr, envir, enclos): object 'coefficients_df' not found\n",
     "output_type": "error",
     "traceback": [
      "Error in eval(expr, envir, enclos): object 'coefficients_df' not found\nTraceback:\n",
      "1. coefficients_df %>% mutate(abs_estimate = abs(estimate))",
      "2. mutate(., abs_estimate = abs(estimate))"
     ]
    }
   ],
   "source": [
    "# Rank predictors by absolute coefficient magnitude\n",
    "coefficients_df <- coefficients_df %>% mutate(abs_estimate = abs(estimate))\n",
    "\n",
    "# Plot variable importance\n",
    "ggplot(coefficients_df, aes(x = reorder(term, abs_estimate), y = abs_estimate, fill = term)) +\n",
    "  geom_bar(stat = \"identity\") +\n",
    "  coord_flip() +\n",
    "  labs(\n",
    "    title = \"Variable Importance Based on Coefficients\",\n",
    "    x = \"Predictor Variables\",\n",
    "    y = \"Absolute Coefficient Magnitude\"\n",
    "  ) +\n",
    "  theme_minimal() +\n",
    "  scale_fill_viridis_d()\n"
   ]
  },
  {
   "cell_type": "code",
   "execution_count": 48,
   "id": "1405ce36-d0b9-40ff-ba20-8cd3c33b660f",
   "metadata": {
    "tags": []
   },
   "outputs": [
    {
     "data": {
      "image/png": "[encoded data removed]",
      "text/plain": [
       "Plot with title \"Forecasts from ARIMA(1,1,0)(0,0,1)[12]\""
      ]
     },
     "metadata": {
      "image/png": {
       "height": 420,
       "width": 420
      }
     },
     "output_type": "display_data"
    }
   ],
   "source": [
    "# ARIMA Model for Treatment Trends\n",
    "fit_arima <- auto.arima(ts_treatment)\n",
    "forecast_arima <- forecast(fit_arima, h = 12)\n",
    "plot(forecast_arima)\n"
   ]
  },
  {
   "cell_type": "markdown",
   "id": "79e7fb95-30b7-49ac-a0b9-0f3b8416415c",
   "metadata": {},
   "source": [
    "#### Violin Plot for Days Indoors by Treatment"
   ]
  },
  {
   "cell_type": "code",
   "execution_count": 36,
   "id": "8efebac8-6044-499e-89ad-acefd5ec96a3",
   "metadata": {
    "tags": []
   },
   "outputs": [
    {
     "data": {
      "image/png": "[encoded data removed]",
      "text/plain": [
       "plot without title"
      ]
     },
     "metadata": {
      "image/png": {
       "height": 420,
       "width": 420
      }
     },
     "output_type": "display_data"
    }
   ],
   "source": [
    "# Ensure column exists or create it\n",
    "data_clean <- data_clean %>%\n",
    "  mutate(Days_Indoor = sample(1:30, nrow(data_clean), replace = TRUE))  # Replace with actual logic\n",
    "\n",
    "# Plot code using Days_Indoor\n",
    "ggplot(data_clean, aes(x = factor(Days_Indoor), y = pred)) +\n",
    "  geom_violin(fill = \"lightblue\", color = \"blue\") +\n",
    "  labs(\n",
    "    title = \"Predicted Probabilities vs Days Indoors\",\n",
    "    x = \"Days Indoors\",\n",
    "    y = \"Predicted Probability\"\n",
    "  ) +\n",
    "  theme_minimal()\n"
   ]
  },
  {
   "cell_type": "markdown",
   "id": "6985bac6-9fbb-4c2b-9e98-0786a73ecc73",
   "metadata": {},
   "source": [
    "This code creates a random Days_Indoor variable and uses a violin plot to visualize the distribution of the predicted probabilities (pred) across different values of Days_Indoor. The ggplot2 package is used to generate the plot, providing a clean and intuitive representation of how predicted probabilities vary across the Days_Indoor categories."
   ]
  },
  {
   "cell_type": "markdown",
   "id": "243df719-afab-435d-b91b-88e06cdbf6c0",
   "metadata": {},
   "source": [
    "#### Trends in Work Interest Over Time"
   ]
  },
  {
   "cell_type": "code",
   "execution_count": 38,
   "id": "33503afe-bc0c-4e2d-9f2c-235ac7fd4312",
   "metadata": {
    "tags": []
   },
   "outputs": [
    {
     "data": {
      "image/png": "[encoded data removed]",
      "text/plain": [
       "plot without title"
      ]
     },
     "metadata": {
      "image/png": {
       "height": 420,
       "width": 420
      }
     },
     "output_type": "display_data"
    }
   ],
   "source": [
    "work_interest_trends <- data %>%\n",
    "  group_by(Timestamp) %>%\n",
    "  summarize(work_interest_rate = mean(as.numeric(Work_Interest == \"Yes\"), na.rm = TRUE))\n",
    "\n",
    "ggplot(work_interest_trends, aes(x = Timestamp, y = work_interest_rate)) +\n",
    "  geom_line(color = \"darkgreen\") +\n",
    "  labs(title = \"Trends in Work Interest Over Time\", x = \"Time\", y = \"Work Interest Rate\")\n"
   ]
  },
  {
   "cell_type": "code",
   "execution_count": null,
   "id": "2e0fcc19-db2d-4b85-b10d-6e07bfacf42b",
   "metadata": {},
   "outputs": [],
   "source": []
  }
 ],
 "metadata": {
  "kernelspec": {
   "display_name": "R",
   "language": "R",
   "name": "ir"
  },
  "language_info": {
   "codemirror_mode": "r",
   "file_extension": ".r",
   "mimetype": "text/x-r-source",
   "name": "R",
   "pygments_lexer": "r",
   "version": "4.4.1"
  }
 },
 "nbformat": 4,
 "nbformat_minor": 5
}
